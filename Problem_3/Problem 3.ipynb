{
 "cells": [
  {
   "cell_type": "code",
   "execution_count": 23,
   "metadata": {
    "collapsed": true
   },
   "outputs": [],
   "source": [
    "import pandas as pd\n",
    "import numpy as np\n",
    "import matplotlib.pyplot as plt\n",
    "import seaborn as sn\n",
    "\n",
    "from sklearn.model_selection import train_test_split\n",
    "from sklearn.tree import DecisionTreeClassifier\n",
    "from sklearn.metrics import classification_report\n",
    "import sklearn.metrics"
   ]
  },
  {
   "cell_type": "code",
   "execution_count": 24,
   "outputs": [
    {
     "data": {
      "text/plain": "   Order_ID               Item_Name   Item_No  Price            Publisher  \\\n0      1000        Grand Theft Auto  S18_1342  29.99  Activision Blizzard   \n1      1000  Call of Duty: Vanguard  S20_1421  26.99  Activision Blizzard   \n2      1000            Madden NFL23  N23_9809  35.99                   EA   \n3      1001         Animal Crossing  S21_4320  18.99             Nintendo   \n4      1001        Grand Theft Auto  S18_1342  29.99  Activision Blizzard   \n\n   Rating Sales Channel  \n0       3        Online  \n1       5        Online  \n2       5        Online  \n3       4        Retail  \n4       5        Retail  ",
      "text/html": "<div>\n<style scoped>\n    .dataframe tbody tr th:only-of-type {\n        vertical-align: middle;\n    }\n\n    .dataframe tbody tr th {\n        vertical-align: top;\n    }\n\n    .dataframe thead th {\n        text-align: right;\n    }\n</style>\n<table border=\"1\" class=\"dataframe\">\n  <thead>\n    <tr style=\"text-align: right;\">\n      <th></th>\n      <th>Order_ID</th>\n      <th>Item_Name</th>\n      <th>Item_No</th>\n      <th>Price</th>\n      <th>Publisher</th>\n      <th>Rating</th>\n      <th>Sales Channel</th>\n    </tr>\n  </thead>\n  <tbody>\n    <tr>\n      <th>0</th>\n      <td>1000</td>\n      <td>Grand Theft Auto</td>\n      <td>S18_1342</td>\n      <td>29.99</td>\n      <td>Activision Blizzard</td>\n      <td>3</td>\n      <td>Online</td>\n    </tr>\n    <tr>\n      <th>1</th>\n      <td>1000</td>\n      <td>Call of Duty: Vanguard</td>\n      <td>S20_1421</td>\n      <td>26.99</td>\n      <td>Activision Blizzard</td>\n      <td>5</td>\n      <td>Online</td>\n    </tr>\n    <tr>\n      <th>2</th>\n      <td>1000</td>\n      <td>Madden NFL23</td>\n      <td>N23_9809</td>\n      <td>35.99</td>\n      <td>EA</td>\n      <td>5</td>\n      <td>Online</td>\n    </tr>\n    <tr>\n      <th>3</th>\n      <td>1001</td>\n      <td>Animal Crossing</td>\n      <td>S21_4320</td>\n      <td>18.99</td>\n      <td>Nintendo</td>\n      <td>4</td>\n      <td>Retail</td>\n    </tr>\n    <tr>\n      <th>4</th>\n      <td>1001</td>\n      <td>Grand Theft Auto</td>\n      <td>S18_1342</td>\n      <td>29.99</td>\n      <td>Activision Blizzard</td>\n      <td>5</td>\n      <td>Retail</td>\n    </tr>\n  </tbody>\n</table>\n</div>"
     },
     "execution_count": 24,
     "metadata": {},
     "output_type": "execute_result"
    }
   ],
   "source": [
    "df = pd.read_csv('games_bought.csv')\n",
    "df.head(5)"
   ],
   "metadata": {
    "collapsed": false
   }
  },
  {
   "cell_type": "markdown",
   "source": [
    "# 1. When a customer views a series, we need an affinity score (for all games) to recommend other items to the customer"
   ],
   "metadata": {
    "collapsed": false
   }
  },
  {
   "cell_type": "code",
   "execution_count": 25,
   "outputs": [
    {
     "data": {
      "text/plain": "Empty DataFrame\nColumns: [game1, game2, score]\nIndex: []",
      "text/html": "<div>\n<style scoped>\n    .dataframe tbody tr th:only-of-type {\n        vertical-align: middle;\n    }\n\n    .dataframe tbody tr th {\n        vertical-align: top;\n    }\n\n    .dataframe thead th {\n        text-align: right;\n    }\n</style>\n<table border=\"1\" class=\"dataframe\">\n  <thead>\n    <tr style=\"text-align: right;\">\n      <th></th>\n      <th>game1</th>\n      <th>game2</th>\n      <th>score</th>\n    </tr>\n  </thead>\n  <tbody>\n  </tbody>\n</table>\n</div>"
     },
     "execution_count": 25,
     "metadata": {},
     "output_type": "execute_result"
    }
   ],
   "source": [
    "# Building an affinity score is similar to finding correlation value\n",
    "itemAffinity = pd.DataFrame(columns=('game1', 'game2', 'score'))\n",
    "rowCount = 0\n",
    "itemAffinity"
   ],
   "metadata": {
    "collapsed": false
   }
  },
  {
   "cell_type": "code",
   "execution_count": 93,
   "outputs": [
    {
     "data": {
      "text/plain": "                     game1                   game2  score\n4          Animal Crossing  Call of Duty: Vanguard    0.5\n5   Call of Duty: Vanguard         Animal Crossing    0.5\n8          Animal Crossing                 FIFA 23    0.5\n9                  FIFA 23         Animal Crossing    0.5\n12            Madden NFL23        Assassin's Creed    0.5\n13        Assassin's Creed            Madden NFL23    0.5\n16            Madden NFL23        Grand Theft Auto    0.5\n17        Grand Theft Auto            Madden NFL23    0.5\n22        Assassin's Creed            Madden NFL23    0.5\n23            Madden NFL23        Assassin's Creed    0.5",
      "text/html": "<div>\n<style scoped>\n    .dataframe tbody tr th:only-of-type {\n        vertical-align: middle;\n    }\n\n    .dataframe tbody tr th {\n        vertical-align: top;\n    }\n\n    .dataframe thead th {\n        text-align: right;\n    }\n</style>\n<table border=\"1\" class=\"dataframe\">\n  <thead>\n    <tr style=\"text-align: right;\">\n      <th></th>\n      <th>game1</th>\n      <th>game2</th>\n      <th>score</th>\n    </tr>\n  </thead>\n  <tbody>\n    <tr>\n      <th>4</th>\n      <td>Animal Crossing</td>\n      <td>Call of Duty: Vanguard</td>\n      <td>0.5</td>\n    </tr>\n    <tr>\n      <th>5</th>\n      <td>Call of Duty: Vanguard</td>\n      <td>Animal Crossing</td>\n      <td>0.5</td>\n    </tr>\n    <tr>\n      <th>8</th>\n      <td>Animal Crossing</td>\n      <td>FIFA 23</td>\n      <td>0.5</td>\n    </tr>\n    <tr>\n      <th>9</th>\n      <td>FIFA 23</td>\n      <td>Animal Crossing</td>\n      <td>0.5</td>\n    </tr>\n    <tr>\n      <th>12</th>\n      <td>Madden NFL23</td>\n      <td>Assassin's Creed</td>\n      <td>0.5</td>\n    </tr>\n    <tr>\n      <th>13</th>\n      <td>Assassin's Creed</td>\n      <td>Madden NFL23</td>\n      <td>0.5</td>\n    </tr>\n    <tr>\n      <th>16</th>\n      <td>Madden NFL23</td>\n      <td>Grand Theft Auto</td>\n      <td>0.5</td>\n    </tr>\n    <tr>\n      <th>17</th>\n      <td>Grand Theft Auto</td>\n      <td>Madden NFL23</td>\n      <td>0.5</td>\n    </tr>\n    <tr>\n      <th>22</th>\n      <td>Assassin's Creed</td>\n      <td>Madden NFL23</td>\n      <td>0.5</td>\n    </tr>\n    <tr>\n      <th>23</th>\n      <td>Madden NFL23</td>\n      <td>Assassin's Creed</td>\n      <td>0.5</td>\n    </tr>\n  </tbody>\n</table>\n</div>"
     },
     "execution_count": 93,
     "metadata": {},
     "output_type": "execute_result"
    }
   ],
   "source": [
    "# We get our first list of unique items\n",
    "# Set makes it unique\n",
    "games=list(set(df['Item_Name']))\n",
    "\n",
    "# Comparing each item in the list with other items\n",
    "for i in range(len(games)):\n",
    "    # Find out who bought game 1\n",
    "    game1Users = df[df.Item_Name==games[i]]['Order_ID'].tolist()\n",
    "\n",
    "    # If the item the loop is on encounters itself or an item already included\n",
    "    # Skip over it\n",
    "\n",
    "    for j in range(len(games)):\n",
    "        if i == j:\n",
    "            continue\n",
    "\n",
    "        # If game is not the same, find out who bought game 2\n",
    "        game2Users = df[df.Item_Name==games[j]]['Order_ID'].tolist()\n",
    "\n",
    "        # Score will be the intersection of users who bought one game, who also bought another\n",
    "        # Can imagine it like a Venn diagram\n",
    "        purchasesInCommon=len(set(game1Users).intersection(set(game2Users)))\n",
    "\n",
    "        # Score being how often this occurred throughout all the games\n",
    "        score = purchasesInCommon / len(games)\n",
    "\n",
    "        # This score: bought item 1? likelihood you bought item 2\n",
    "        itemAffinity.loc[rowCount] = [games[i], games[j], score]\n",
    "        rowCount +=1\n",
    "\n",
    "        # This score: reverse of the above\n",
    "        itemAffinity.loc[rowCount] = [games[j], games[i], score]\n",
    "        rowCount +=1\n",
    "\n",
    "# Find out what our final affinity score will be\n",
    "itemAffinity.nlargest(10, 'score')\n",
    "\n",
    "\n"
   ],
   "metadata": {
    "collapsed": false
   }
  },
  {
   "cell_type": "markdown",
   "source": [
    "# 2. Create an item list (for all games) that you can recommend to the user in order of preference (include the name of the Items, Prices, Publishers & Score)."
   ],
   "metadata": {
    "collapsed": false
   }
  },
  {
   "cell_type": "code",
   "execution_count": 196,
   "outputs": [
    {
     "data": {
      "text/plain": "                      game2  score\n591                 FIFA 23   0.50\n151  Call of Duty: Vanguard   0.50\n360            Madden NFL23   0.17\n581        Grand Theft Auto   0.17\n201        Assassin's Creed   0.00",
      "text/html": "<div>\n<style scoped>\n    .dataframe tbody tr th:only-of-type {\n        vertical-align: middle;\n    }\n\n    .dataframe tbody tr th {\n        vertical-align: top;\n    }\n\n    .dataframe thead th {\n        text-align: right;\n    }\n</style>\n<table border=\"1\" class=\"dataframe\">\n  <thead>\n    <tr style=\"text-align: right;\">\n      <th></th>\n      <th>game2</th>\n      <th>score</th>\n    </tr>\n  </thead>\n  <tbody>\n    <tr>\n      <th>591</th>\n      <td>FIFA 23</td>\n      <td>0.50</td>\n    </tr>\n    <tr>\n      <th>151</th>\n      <td>Call of Duty: Vanguard</td>\n      <td>0.50</td>\n    </tr>\n    <tr>\n      <th>360</th>\n      <td>Madden NFL23</td>\n      <td>0.17</td>\n    </tr>\n    <tr>\n      <th>581</th>\n      <td>Grand Theft Auto</td>\n      <td>0.17</td>\n    </tr>\n    <tr>\n      <th>201</th>\n      <td>Assassin's Creed</td>\n      <td>0.00</td>\n    </tr>\n  </tbody>\n</table>\n</div>"
     },
     "metadata": {},
     "output_type": "display_data"
    },
    {
     "data": {
      "text/plain": "[                      game2  score\n 591                 FIFA 23   0.50\n 151  Call of Duty: Vanguard   0.50\n 360            Madden NFL23   0.17\n 581        Grand Theft Auto   0.17\n 201        Assassin's Creed   0.00]"
     },
     "execution_count": 196,
     "metadata": {},
     "output_type": "execute_result"
    }
   ],
   "source": [
    "# Want to have a list where we can index by a game name and get a recommendation list\n",
    "\n",
    "# here's how we get one recommendation list:\n",
    "searchItem = 'Animal Crossing'\n",
    "recommendList = itemAffinity[itemAffinity.game1 == searchItem][[\"game2\", \"score\"]].sort_values('score',ascending = [0]).round(2)\n",
    "\n",
    "#print(\"Recommendations for Animal Crossing -Item #4\")\n",
    "recommendList.nlargest(5, \"score\")\n",
    "display(recommendList.drop_duplicates())\n",
    "\n",
    "recommendations = []\n",
    "games_run = []\n",
    "def buildRecommendedList(search_item):\n",
    "        recommendation_list = (itemAffinity[itemAffinity.game1 == search_item][[\"game2\", \"score\"]].sort_values('score',ascending = [0]).round(2)).drop_duplicates()\n",
    "        games_run.append(search_item)\n",
    "        return recommendation_list\n",
    "\n",
    "\n",
    "\n",
    "for game in itemAffinity['game1']:\n",
    "    if game in games_run:\n",
    "        continue\n",
    "    recommendations.append({game: pd.DataFrame(buildRecommendedList(game))})\n",
    "\n",
    "\n",
    "def getList(search_term):\n",
    "    for recommendation in recommendations:\n",
    "        if search_term in str(recommendation.keys()):\n",
    "            return list(recommendation.values())\n",
    "\n",
    "\n",
    "\n",
    "gta = getList('Grand Theft Auto')\n",
    "animal_crossing = getList('Animal Crossing')\n",
    "animal_crossing"
   ],
   "metadata": {
    "collapsed": false
   }
  },
  {
   "cell_type": "code",
   "execution_count": null,
   "outputs": [],
   "source": [],
   "metadata": {
    "collapsed": false
   }
  }
 ],
 "metadata": {
  "kernelspec": {
   "display_name": "Python 3",
   "language": "python",
   "name": "python3"
  },
  "language_info": {
   "codemirror_mode": {
    "name": "ipython",
    "version": 2
   },
   "file_extension": ".py",
   "mimetype": "text/x-python",
   "name": "python",
   "nbconvert_exporter": "python",
   "pygments_lexer": "ipython2",
   "version": "2.7.6"
  }
 },
 "nbformat": 4,
 "nbformat_minor": 0
}

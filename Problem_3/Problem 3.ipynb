{
 "cells": [
  {
   "cell_type": "code",
   "execution_count": 588,
   "outputs": [],
   "source": [
    "import pandas as pd\n",
    "import numpy as np\n",
    "import matplotlib.pyplot as plt\n",
    "import seaborn as sn\n",
    "\n",
    "from sklearn.model_selection import train_test_split\n",
    "from sklearn.tree import DecisionTreeClassifier\n",
    "from sklearn.metrics import classification_report\n",
    "import sklearn.metrics"
   ],
   "metadata": {
    "collapsed": false
   }
  },
  {
   "cell_type": "code",
   "execution_count": 589,
   "outputs": [
    {
     "data": {
      "text/plain": "   Order_ID               Item_Name   Item_No  Price            Publisher  \\\n0      1000        Grand Theft Auto  S18_1342  29.99  Activision Blizzard   \n1      1000  Call of Duty: Vanguard  S20_1421  26.99  Activision Blizzard   \n2      1000            Madden NFL23  N23_9809  35.99                   EA   \n3      1001         Animal Crossing  S21_4320  18.99             Nintendo   \n4      1001        Grand Theft Auto  S18_1342  29.99  Activision Blizzard   \n\n   Rating Sales Channel  \n0       3        Online  \n1       5        Online  \n2       5        Online  \n3       4        Retail  \n4       5        Retail  ",
      "text/html": "<div>\n<style scoped>\n    .dataframe tbody tr th:only-of-type {\n        vertical-align: middle;\n    }\n\n    .dataframe tbody tr th {\n        vertical-align: top;\n    }\n\n    .dataframe thead th {\n        text-align: right;\n    }\n</style>\n<table border=\"1\" class=\"dataframe\">\n  <thead>\n    <tr style=\"text-align: right;\">\n      <th></th>\n      <th>Order_ID</th>\n      <th>Item_Name</th>\n      <th>Item_No</th>\n      <th>Price</th>\n      <th>Publisher</th>\n      <th>Rating</th>\n      <th>Sales Channel</th>\n    </tr>\n  </thead>\n  <tbody>\n    <tr>\n      <th>0</th>\n      <td>1000</td>\n      <td>Grand Theft Auto</td>\n      <td>S18_1342</td>\n      <td>29.99</td>\n      <td>Activision Blizzard</td>\n      <td>3</td>\n      <td>Online</td>\n    </tr>\n    <tr>\n      <th>1</th>\n      <td>1000</td>\n      <td>Call of Duty: Vanguard</td>\n      <td>S20_1421</td>\n      <td>26.99</td>\n      <td>Activision Blizzard</td>\n      <td>5</td>\n      <td>Online</td>\n    </tr>\n    <tr>\n      <th>2</th>\n      <td>1000</td>\n      <td>Madden NFL23</td>\n      <td>N23_9809</td>\n      <td>35.99</td>\n      <td>EA</td>\n      <td>5</td>\n      <td>Online</td>\n    </tr>\n    <tr>\n      <th>3</th>\n      <td>1001</td>\n      <td>Animal Crossing</td>\n      <td>S21_4320</td>\n      <td>18.99</td>\n      <td>Nintendo</td>\n      <td>4</td>\n      <td>Retail</td>\n    </tr>\n    <tr>\n      <th>4</th>\n      <td>1001</td>\n      <td>Grand Theft Auto</td>\n      <td>S18_1342</td>\n      <td>29.99</td>\n      <td>Activision Blizzard</td>\n      <td>5</td>\n      <td>Retail</td>\n    </tr>\n  </tbody>\n</table>\n</div>"
     },
     "execution_count": 589,
     "metadata": {},
     "output_type": "execute_result"
    }
   ],
   "source": [
    "df = pd.read_csv('games_bought.csv')\n",
    "df.head(5)"
   ],
   "metadata": {
    "collapsed": false
   }
  },
  {
   "cell_type": "markdown",
   "source": [
    "# 1. When a customer views a series, we need an affinity score (for all games) to recommend other items to the customer"
   ],
   "metadata": {
    "collapsed": false
   }
  },
  {
   "cell_type": "code",
   "execution_count": 590,
   "outputs": [
    {
     "data": {
      "text/plain": "Empty DataFrame\nColumns: [game1, game2, score]\nIndex: []",
      "text/html": "<div>\n<style scoped>\n    .dataframe tbody tr th:only-of-type {\n        vertical-align: middle;\n    }\n\n    .dataframe tbody tr th {\n        vertical-align: top;\n    }\n\n    .dataframe thead th {\n        text-align: right;\n    }\n</style>\n<table border=\"1\" class=\"dataframe\">\n  <thead>\n    <tr style=\"text-align: right;\">\n      <th></th>\n      <th>game1</th>\n      <th>game2</th>\n      <th>score</th>\n    </tr>\n  </thead>\n  <tbody>\n  </tbody>\n</table>\n</div>"
     },
     "execution_count": 590,
     "metadata": {},
     "output_type": "execute_result"
    }
   ],
   "source": [
    "# Building an affinity score is similar to finding correlation value\n",
    "itemAffinity = pd.DataFrame(columns=('game1', 'game2', 'score'))\n",
    "rowCount = 0\n",
    "itemAffinity"
   ],
   "metadata": {
    "collapsed": false
   }
  },
  {
   "cell_type": "code",
   "execution_count": 591,
   "outputs": [
    {
     "data": {
      "text/plain": "                     game1                   game2  score\n6         Assassin's Creed            Madden NFL23    0.5\n7             Madden NFL23        Assassin's Creed    0.5\n12                 FIFA 23        Grand Theft Auto    0.5\n13        Grand Theft Auto                 FIFA 23    0.5\n14                 FIFA 23         Animal Crossing    0.5\n15         Animal Crossing                 FIFA 23    0.5\n18                 FIFA 23  Call of Duty: Vanguard    0.5\n19  Call of Duty: Vanguard                 FIFA 23    0.5\n22        Grand Theft Auto                 FIFA 23    0.5\n23                 FIFA 23        Grand Theft Auto    0.5",
      "text/html": "<div>\n<style scoped>\n    .dataframe tbody tr th:only-of-type {\n        vertical-align: middle;\n    }\n\n    .dataframe tbody tr th {\n        vertical-align: top;\n    }\n\n    .dataframe thead th {\n        text-align: right;\n    }\n</style>\n<table border=\"1\" class=\"dataframe\">\n  <thead>\n    <tr style=\"text-align: right;\">\n      <th></th>\n      <th>game1</th>\n      <th>game2</th>\n      <th>score</th>\n    </tr>\n  </thead>\n  <tbody>\n    <tr>\n      <th>6</th>\n      <td>Assassin's Creed</td>\n      <td>Madden NFL23</td>\n      <td>0.5</td>\n    </tr>\n    <tr>\n      <th>7</th>\n      <td>Madden NFL23</td>\n      <td>Assassin's Creed</td>\n      <td>0.5</td>\n    </tr>\n    <tr>\n      <th>12</th>\n      <td>FIFA 23</td>\n      <td>Grand Theft Auto</td>\n      <td>0.5</td>\n    </tr>\n    <tr>\n      <th>13</th>\n      <td>Grand Theft Auto</td>\n      <td>FIFA 23</td>\n      <td>0.5</td>\n    </tr>\n    <tr>\n      <th>14</th>\n      <td>FIFA 23</td>\n      <td>Animal Crossing</td>\n      <td>0.5</td>\n    </tr>\n    <tr>\n      <th>15</th>\n      <td>Animal Crossing</td>\n      <td>FIFA 23</td>\n      <td>0.5</td>\n    </tr>\n    <tr>\n      <th>18</th>\n      <td>FIFA 23</td>\n      <td>Call of Duty: Vanguard</td>\n      <td>0.5</td>\n    </tr>\n    <tr>\n      <th>19</th>\n      <td>Call of Duty: Vanguard</td>\n      <td>FIFA 23</td>\n      <td>0.5</td>\n    </tr>\n    <tr>\n      <th>22</th>\n      <td>Grand Theft Auto</td>\n      <td>FIFA 23</td>\n      <td>0.5</td>\n    </tr>\n    <tr>\n      <th>23</th>\n      <td>FIFA 23</td>\n      <td>Grand Theft Auto</td>\n      <td>0.5</td>\n    </tr>\n  </tbody>\n</table>\n</div>"
     },
     "execution_count": 591,
     "metadata": {},
     "output_type": "execute_result"
    }
   ],
   "source": [
    "# We get our first list of unique items\n",
    "# Set makes it unique\n",
    "games=list(set(df['Item_Name']))\n",
    "\n",
    "# Comparing each item in the list with other items\n",
    "for i in range(len(games)):\n",
    "    # Find out who bought game 1\n",
    "    game1Users = df[df.Item_Name==games[i]]['Order_ID'].tolist()\n",
    "\n",
    "    # If the item the loop is on encounters itself or an item already included\n",
    "    # Skip over it\n",
    "\n",
    "    for j in range(len(games)):\n",
    "        if i == j:\n",
    "            continue\n",
    "\n",
    "        # If game is not the same, find out who bought game 2\n",
    "        game2Users = df[df.Item_Name==games[j]]['Order_ID'].tolist()\n",
    "\n",
    "        # Score will be the intersection of users who bought one game, who also bought another\n",
    "        # Can imagine it like a Venn diagram\n",
    "        purchasesInCommon=len(set(game1Users).intersection(set(game2Users)))\n",
    "\n",
    "        # Score being how often this occurred throughout all the games\n",
    "        score = purchasesInCommon / len(games)\n",
    "\n",
    "        # This score: bought item 1? likelihood you bought item 2\n",
    "        itemAffinity.loc[rowCount] = [games[i], games[j], score]\n",
    "        rowCount +=1\n",
    "\n",
    "        # This score: reverse of the above\n",
    "        itemAffinity.loc[rowCount] = [games[j], games[i], score]\n",
    "        rowCount +=1\n",
    "\n",
    "# Find out what our final affinity score will be\n",
    "itemAffinity.nlargest(10, 'score')\n",
    "\n",
    "\n"
   ],
   "metadata": {
    "collapsed": false
   }
  },
  {
   "cell_type": "markdown",
   "source": [
    "# 2. Create an item list (for all games) that you can recommend to the user in order of preference (include the name of the Items, Prices, Publishers & Score).\n",
    "\n",
    "# 3. Use merged data from games_catalogue.csv"
   ],
   "metadata": {
    "collapsed": false
   }
  },
  {
   "cell_type": "code",
   "execution_count": 592,
   "outputs": [
    {
     "name": "stdout",
     "output_type": "stream",
     "text": [
      "\n",
      " Recommendations for Assassin's Creed: \n",
      "\n",
      "                 Item_Name  score  Price            Publisher\n",
      "0             Madden NFL23   0.50  35.99                   EA\n",
      "5                  FIFA 23   0.17  26.99                   AB\n",
      "6                  FIFA 23   0.17  26.99                   EA\n",
      "7                  FIFA 23   0.17  25.99                   EA\n",
      "12        Grand Theft Auto   0.17  29.99  Activision Blizzard\n",
      "18  Call of Duty: Vanguard   0.17  26.99  Activision Blizzard\n",
      "24         Animal Crossing   0.00  18.99             Nintendo\n",
      "\n",
      " Recommendations for FIFA 23: \n",
      "\n",
      "                 Item_Name  score  Price            Publisher\n",
      "0         Grand Theft Auto   0.50  29.99  Activision Blizzard\n",
      "6          Animal Crossing   0.50  18.99             Nintendo\n",
      "11  Call of Duty: Vanguard   0.50  26.99  Activision Blizzard\n",
      "17        Assassin's Creed   0.17  26.99              Ubisoft\n",
      "18        Assassin's Creed   0.17  35.99              Ubisoft\n",
      "20            Madden NFL23   0.17  35.99                   EA\n",
      "\n",
      " Recommendations for Grand Theft Auto: \n",
      "\n",
      "                 Item_Name  score  Price            Publisher\n",
      "0                  FIFA 23   0.50  26.99                   AB\n",
      "1                  FIFA 23   0.50  26.99                   EA\n",
      "2                  FIFA 23   0.50  25.99                   EA\n",
      "7             Madden NFL23   0.50  35.99                   EA\n",
      "12  Call of Duty: Vanguard   0.33  26.99  Activision Blizzard\n",
      "18        Assassin's Creed   0.17  26.99              Ubisoft\n",
      "19        Assassin's Creed   0.17  35.99              Ubisoft\n",
      "21         Animal Crossing   0.17  18.99             Nintendo\n",
      "\n",
      " Recommendations for Animal Crossing: \n",
      "\n",
      "                 Item_Name  score  Price            Publisher\n",
      "0                  FIFA 23   0.50  26.99                   AB\n",
      "1                  FIFA 23   0.50  26.99                   EA\n",
      "2                  FIFA 23   0.50  25.99                   EA\n",
      "7   Call of Duty: Vanguard   0.50  26.99  Activision Blizzard\n",
      "13        Grand Theft Auto   0.17  29.99  Activision Blizzard\n",
      "19            Madden NFL23   0.17  35.99                   EA\n",
      "24        Assassin's Creed   0.00  26.99              Ubisoft\n",
      "25        Assassin's Creed   0.00  35.99              Ubisoft\n",
      "\n",
      " Recommendations for Madden NFL23: \n",
      "\n",
      "                 Item_Name  score  Price            Publisher\n",
      "0         Assassin's Creed   0.50  26.99              Ubisoft\n",
      "1         Assassin's Creed   0.50  35.99              Ubisoft\n",
      "3         Grand Theft Auto   0.50  29.99  Activision Blizzard\n",
      "9   Call of Duty: Vanguard   0.33  26.99  Activision Blizzard\n",
      "15                 FIFA 23   0.17  26.99                   AB\n",
      "16                 FIFA 23   0.17  26.99                   EA\n",
      "17                 FIFA 23   0.17  25.99                   EA\n",
      "22         Animal Crossing   0.17  18.99             Nintendo\n",
      "\n",
      " Recommendations for Call of Duty: Vanguard: \n",
      "\n",
      "           Item_Name  score  Price            Publisher\n",
      "0            FIFA 23   0.50  26.99                   AB\n",
      "1            FIFA 23   0.50  26.99                   EA\n",
      "2            FIFA 23   0.50  25.99                   EA\n",
      "7    Animal Crossing   0.50  18.99             Nintendo\n",
      "12  Grand Theft Auto   0.33  29.99  Activision Blizzard\n",
      "18      Madden NFL23   0.33  35.99                   EA\n",
      "23  Assassin's Creed   0.17  26.99              Ubisoft\n",
      "24  Assassin's Creed   0.17  35.99              Ubisoft\n"
     ]
    }
   ],
   "source": [
    "# Want to have a list where we can index by a game name and get a recommendation list\n",
    "\n",
    "# here's how we get one recommendation list:\n",
    "searchItem = 'Animal Crossing'\n",
    "recommendList = itemAffinity[itemAffinity.game1 == searchItem][[\"game2\", \"score\"]].sort_values('score',ascending = [0]).round(2)\n",
    "\n",
    "#print(\"Recommendations for Animal Crossing -Item #4\")\n",
    "recommendList.nlargest(5, \"score\")\n",
    "# display(recommendList.drop_duplicates())\n",
    "\n",
    "'''\n",
    "Version 1:\n",
    "'''\n",
    "\n",
    "# recommendations = []\n",
    "# games_run = []\n",
    "# def buildRecommendedList(search_item):\n",
    "#         recommendation_list = (itemAffinity[itemAffinity.game1 == search_item][[\"game2\", \"score\"]].sort_values('score',ascending = [0]).round(2)).drop_duplicates()\n",
    "#         games_run.append(search_item)\n",
    "#         return recommendation_list\n",
    "#\n",
    "#\n",
    "#\n",
    "# for game in itemAffinity['game1']:\n",
    "#     if game in games_run:\n",
    "#         continue\n",
    "#     recommendations.append({game: pd.DataFrame(buildRecommendedList(game))})\n",
    "#\n",
    "#\n",
    "# def getList(search_term):\n",
    "#     for recommendation in recommendations:\n",
    "#         if search_term in str(recommendation.keys()):\n",
    "#             return list(recommendation.values())\n",
    "#\n",
    "#\n",
    "# searchGame = games[0]\n",
    "\n",
    "'''\n",
    "Version 2:\n",
    "'''\n",
    "df2 = pd.read_csv('games_catalogue.csv')[[\"Item_Name\",\"Price\",\"Publisher\"]]\n",
    "# Will rename recommend_list's game2 column in order to have a column in common between itself and df2 when merging\n",
    "nameDict={\"game2\":\"Item_Name\"}\n",
    "\n",
    "# This function will receive a game name as input and return a recommendation list\n",
    "def getRecommendations(search_term):\n",
    "    # Loop through every game\n",
    "    for game in range(len(games)):\n",
    "        # Getting an affinity score\n",
    "        recommend_list = itemAffinity[itemAffinity.game1 == search_term][[\"game2\",\"score\"]].sort_values('score',ascending = False).round(2).drop_duplicates().rename(columns=nameDict) # I rename game2 to Item_Name\n",
    "\n",
    "\n",
    "        # Merging recommended list with df2 (games_catalogue) dataset\n",
    "        return pd.merge(recommend_list, df2, on='Item_Name').drop_duplicates()\n",
    "\n",
    "# Now run the getRecommendations function on every game to see our recommendation lists\n",
    "for i in range(len(games)):\n",
    "    print(\"\\n Recommendations for \"+games[i]+\": \\n\")\n",
    "    print((getRecommendations(games[i])))\n"
   ],
   "metadata": {
    "collapsed": false
   }
  },
  {
   "cell_type": "markdown",
   "source": [
    "# 4. Include any extra code (or plot any graph) that you think would help GameStore management interpret their data"
   ],
   "metadata": {
    "collapsed": false
   }
  },
  {
   "cell_type": "code",
   "execution_count": 615,
   "outputs": [
    {
     "name": "stdout",
     "output_type": "stream",
     "text": [
      "[{'Game': \"Assassin's Creed\", 'Pairing': 'Madden NFL23'}, {'Game': 'FIFA 23', 'Pairing': 'Grand Theft Auto'}, {'Game': 'Grand Theft Auto', 'Pairing': 'FIFA 23'}, {'Game': 'Animal Crossing', 'Pairing': 'FIFA 23'}, {'Game': 'Madden NFL23', 'Pairing': \"Assassin's Creed\"}, {'Game': 'Call of Duty: Vanguard', 'Pairing': 'FIFA 23'}]\n"
     ]
    },
    {
     "data": {
      "text/plain": "[<matplotlib.lines.Line2D at 0x1ea2daa2700>]"
     },
     "execution_count": 615,
     "metadata": {},
     "output_type": "execute_result"
    },
    {
     "data": {
      "text/plain": "<Figure size 1080x1080 with 1 Axes>",
      "image/png": "[encoded data removed]"
     },
     "metadata": {},
     "output_type": "display_data"
    }
   ],
   "source": [
    "\n",
    "\n",
    "# Find out which product the prospect is most likely to want to buy in each case\n",
    "tg = []\n",
    "\n",
    "def getTopRecommendation():\n",
    "    for i in range(len(games)):\n",
    "        # Find the highest game (first in the list)\n",
    "        rec = getRecommendations(games[i]).Item_Name\n",
    "        tg.append({\n",
    "            'Game': games[i], 'Pairing': rec[0]\n",
    "        })\n",
    "\n",
    "getTopRecommendation()\n",
    "\n",
    "# Now we have a list of each game, along with its highest affinity recommendation (key/value pair)\n",
    "print(tg)\n",
    "\n",
    "# Plot each game\n",
    "import pylab as pl\n",
    "f = plt.figure()\n",
    "plt.xlabel('Most Recommended')\n",
    "plt.ylabel('Game Bought')\n",
    "\n",
    "f.set_figwidth(15)\n",
    "f.set_figheight(15)\n",
    "\n",
    "# My games and their recommendations are an array of key value pairs\n",
    "# Plotting the correlation between each game and its top recommendation\n",
    "# Iterating over each key, and each value\n",
    "pl.plot([g['Game'] for g in tg], [g['Pairing'] for g in tg], 'ro', markersize=15)"
   ],
   "metadata": {
    "collapsed": false
   }
  },
  {
   "cell_type": "code",
   "execution_count": 593,
   "outputs": [],
   "source": [
    "'''\n",
    " From the above chart, we can determine:\n",
    " - People who bought Grand Theft Auto, Animal Crossing, or Call of Duty should buy FIFA 23\n",
    " - People who bought Assassin's Creed should buy Madden NFL23\n",
    " - People who bought FIFA 23 should buy Grand Theft Auto\n",
    " - People who bought Madden NFL23 should buy Assassin's Creed\n",
    "'''\n",
    "\n",
    "# This information could better inform the game store's product placement to increase their sales, ie place Grand Theft Auto, Animal Crossing, Call of Duty near FIFA 23, and so on.\n"
   ],
   "metadata": {
    "collapsed": false
   }
  }
 ],
 "metadata": {
  "kernelspec": {
   "display_name": "Python 3",
   "language": "python",
   "name": "python3"
  },
  "language_info": {
   "codemirror_mode": {
    "name": "ipython",
    "version": 2
   },
   "file_extension": ".py",
   "mimetype": "text/x-python",
   "name": "python",
   "nbconvert_exporter": "python",
   "pygments_lexer": "ipython2",
   "version": "2.7.6"
  }
 },
 "nbformat": 4,
 "nbformat_minor": 0
}

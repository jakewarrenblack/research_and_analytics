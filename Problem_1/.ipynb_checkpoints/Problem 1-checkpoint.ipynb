{
 "cells": [
  {
   "cell_type": "code",
   "execution_count": null,
   "id": "eb735465",
   "metadata": {},
   "outputs": [],
   "source": [
    "import pandas as pd\n",
    "import numpy as np\n",
    "import matplotlib.pyplot as plt\n",
    "from matplotlib import rcParams\n",
    "import seaborn as sns\n",
    "import plotly.graph_objs as go\n",
    "import plotly.express as px"
   ]
  },
  {
   "cell_type": "code",
   "execution_count": null,
   "id": "22d4417b",
   "metadata": {},
   "outputs": [],
   "source": [
    "# Needed these other options, or I got:\n",
    "# 'UnicodeDecodeError: 'utf-8' codec can't decode bytes in position 0-1: invalid continuation byte'\n",
    "df = pd.read_csv('megastore_sales.csv', encoding = 'latin')"
   ]
  },
  {
   "cell_type": "code",
   "execution_count": null,
   "id": "2a802d02",
   "metadata": {},
   "outputs": [],
   "source": [
    "df.head(2)"
   ]
  },
  {
   "cell_type": "code",
   "execution_count": null,
   "id": "ce724edd",
   "metadata": {},
   "outputs": [],
   "source": [
    "# 1.\tClean up the data by dropping any rows with missing values.\n",
    "df.dropna().head(2)"
   ]
  },
  {
   "cell_type": "code",
   "execution_count": null,
   "id": "783c17cc",
   "metadata": {},
   "outputs": [],
   "source": [
    "# 2.\tList the Top 5 salespeople in Sales according to each segment.\n",
    "\n",
    "topSalesPeople = df[['Salesperson', 'Sales']].nlargest(5, 'Sales')\n",
    "topSalesPeople"
   ]
  },
  {
   "cell_type": "code",
   "execution_count": null,
   "id": "7a54c9b3",
   "metadata": {},
   "outputs": [],
   "source": [
    "# 3.\tCreate a calculated column called ‘Price’ (=Sales / Quantity) for each product. \n",
    "df['Price'] = df.Sales * df.Quantity\n",
    "\n",
    "df.head(4)"
   ]
  },
  {
   "cell_type": "code",
   "execution_count": null,
   "id": "79ff6cc1",
   "metadata": {},
   "outputs": [],
   "source": [
    "# 4.\tShow the sum of ‘Profit’ for each region (highest first) (use .agg method).  \n",
    "\n",
    "profitRegion = df.Profit.groupby(df['Region']).agg(['sum']).sort_values('sum', ascending=False)\n",
    "profitRegion"
   ]
  },
  {
   "cell_type": "code",
   "execution_count": null,
   "id": "9e8f6a36",
   "metadata": {},
   "outputs": [],
   "source": [
    "# 5.\tUsing groupby, display the top 3 sales for each category and subcategory.\n",
    "\n",
    "salesByCategory = df.groupby('Category').sum().sort_values('Sales', ascending=False)\n",
    "salesByCategory"
   ]
  },
  {
   "cell_type": "code",
   "execution_count": null,
   "id": "d06780ff",
   "metadata": {},
   "outputs": [],
   "source": [
    "# 6.\tUsing a pivot table, show the sum and mean of ‘Sales’ in terms of Profit and Category and Shipped. \n",
    "table = df.pivot_table(index=['Profit', 'Category', 'Ship Date'], values=['Sales'], aggfunc=['mean', 'sum'], margins=True).round(2)\n",
    "table"
   ]
  },
  {
   "cell_type": "code",
   "execution_count": null,
   "id": "5cd2296b",
   "metadata": {},
   "outputs": [],
   "source": [
    "# 7.\tFind the Technology Accessories sold in New York City worth more than $300 and sold by Nathan Mautz in 2014. \n",
    "\n",
    "technologyNY = df.loc[(df['Category'] == 'Technology') & (df['City'] == 'New York City') & (df['Salesperson'] == 'Nathan Mautz')\\\n",
    "                      & (df['Price'] > 300)]\n",
    "technologyNY.head(5)"
   ]
  },
  {
   "cell_type": "code",
   "execution_count": null,
   "id": "80d096ba",
   "metadata": {},
   "outputs": [],
   "source": [
    "# 8.\tFind all the products with ID #TEC-PH-10003273 in the ‘Home office’ segment that were shipped ‘Second class’ in 2014.\n",
    "df2 = df.loc[(df['Product ID'] == 'TEC-PH-10003273') & (df['Segment'] == 'Home Office') & (df['Ship Mode'] == 'Second Class')\\\n",
    "            & (2014 in df['Ship Date'])]\n",
    "\n",
    "df2"
   ]
  },
  {
   "cell_type": "code",
   "execution_count": null,
   "id": "b1f8d475",
   "metadata": {},
   "outputs": [],
   "source": [
    "# 9.\tAny sales visualisation (graph) that you think would help the MegaStore management to interpret their sales data better. \n",
    "plt.style.use(\"seaborn\")\n",
    "fig, ax =plt.subplots(1,2, figsize=(20,7)) \n",
    "\n",
    "fig.suptitle (\"Critic Score vs Critic Count\", fontsize =25, y=1.0)\n",
    "\n",
    "sns.histplot(x= df['Sales'], kde=True, ax=ax[0], color = \"navy\", bins=20);"
   ]
  },
  {
   "cell_type": "code",
   "execution_count": null,
   "id": "40c18d47",
   "metadata": {},
   "outputs": [],
   "source": [
    "df.groupby(['Sales']).sum().plot(kind='bar', color='red')"
   ]
  }
 ],
 "metadata": {
  "kernelspec": {
   "display_name": "Python 3 (ipykernel)",
   "language": "python",
   "name": "python3"
  },
  "language_info": {
   "codemirror_mode": {
    "name": "ipython",
    "version": 3
   },
   "file_extension": ".py",
   "mimetype": "text/x-python",
   "name": "python",
   "nbconvert_exporter": "python",
   "pygments_lexer": "ipython3",
   "version": "3.9.7"
  }
 },
 "nbformat": 4,
 "nbformat_minor": 5
}

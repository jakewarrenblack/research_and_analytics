{
 "cells": [
  {
   "cell_type": "code",
   "execution_count": 2,
   "id": "eb735465",
   "metadata": {},
   "outputs": [],
   "source": [
    "import pandas as pd\n",
    "import numpy as np\n",
    "import matplotlib.pyplot as plt\n",
    "from matplotlib import rcParams\n",
    "import seaborn as sns\n",
    "import plotly.graph_objs as go\n",
    "import plotly.express as px"
   ]
  },
  {
   "cell_type": "code",
   "execution_count": 3,
   "id": "22d4417b",
   "metadata": {},
   "outputs": [],
   "source": [
    "# Needed these other options, or I got:\n",
    "# 'UnicodeDecodeError: 'utf-8' codec can't decode bytes in position 0-1: invalid continuation byte'\n",
    "df = pd.read_csv('megastore_sales.csv', encoding = 'latin')"
   ]
  },
  {
   "cell_type": "code",
   "execution_count": 4,
   "id": "2a802d02",
   "metadata": {},
   "outputs": [
    {
     "data": {
      "text/plain": "         Order ID  Order Date   Ship Date     Ship Mode Customer ID  \\\n0  CA-2016-152156  08/11/2016  11/11/2016  Second Class    CG-12520   \n1  CA-2016-152156  08/11/2016  11/11/2016  Second Class    CG-12520   \n\n   Salesperson   Segment        Country       City     State  Postal Code  \\\n0  Claire Gute  Consumer  United States  Henderson  Kentucky      42420.0   \n1  Claire Gute  Consumer  United States  Henderson  Kentucky      42420.0   \n\n  Region       Product ID   Category Sub-Category  \\\n0  South  FUR-BO-10001798  Furniture    Bookcases   \n1  South  FUR-CH-10000454  Furniture       Chairs   \n\n                                        Product Name   Sales  Quantity  \\\n0                  Bush Somerset Collection Bookcase  261.96         2   \n1  Hon Deluxe Fabric Upholstered Stacking Chairs,...  731.94         3   \n\n   Discount    Profit  \n0       0.0   41.9136  \n1       0.0  219.5820  ",
      "text/html": "<div>\n<style scoped>\n    .dataframe tbody tr th:only-of-type {\n        vertical-align: middle;\n    }\n\n    .dataframe tbody tr th {\n        vertical-align: top;\n    }\n\n    .dataframe thead th {\n        text-align: right;\n    }\n</style>\n<table border=\"1\" class=\"dataframe\">\n  <thead>\n    <tr style=\"text-align: right;\">\n      <th></th>\n      <th>Order ID</th>\n      <th>Order Date</th>\n      <th>Ship Date</th>\n      <th>Ship Mode</th>\n      <th>Customer ID</th>\n      <th>Salesperson</th>\n      <th>Segment</th>\n      <th>Country</th>\n      <th>City</th>\n      <th>State</th>\n      <th>Postal Code</th>\n      <th>Region</th>\n      <th>Product ID</th>\n      <th>Category</th>\n      <th>Sub-Category</th>\n      <th>Product Name</th>\n      <th>Sales</th>\n      <th>Quantity</th>\n      <th>Discount</th>\n      <th>Profit</th>\n    </tr>\n  </thead>\n  <tbody>\n    <tr>\n      <th>0</th>\n      <td>CA-2016-152156</td>\n      <td>08/11/2016</td>\n      <td>11/11/2016</td>\n      <td>Second Class</td>\n      <td>CG-12520</td>\n      <td>Claire Gute</td>\n      <td>Consumer</td>\n      <td>United States</td>\n      <td>Henderson</td>\n      <td>Kentucky</td>\n      <td>42420.0</td>\n      <td>South</td>\n      <td>FUR-BO-10001798</td>\n      <td>Furniture</td>\n      <td>Bookcases</td>\n      <td>Bush Somerset Collection Bookcase</td>\n      <td>261.96</td>\n      <td>2</td>\n      <td>0.0</td>\n      <td>41.9136</td>\n    </tr>\n    <tr>\n      <th>1</th>\n      <td>CA-2016-152156</td>\n      <td>08/11/2016</td>\n      <td>11/11/2016</td>\n      <td>Second Class</td>\n      <td>CG-12520</td>\n      <td>Claire Gute</td>\n      <td>Consumer</td>\n      <td>United States</td>\n      <td>Henderson</td>\n      <td>Kentucky</td>\n      <td>42420.0</td>\n      <td>South</td>\n      <td>FUR-CH-10000454</td>\n      <td>Furniture</td>\n      <td>Chairs</td>\n      <td>Hon Deluxe Fabric Upholstered Stacking Chairs,...</td>\n      <td>731.94</td>\n      <td>3</td>\n      <td>0.0</td>\n      <td>219.5820</td>\n    </tr>\n  </tbody>\n</table>\n</div>"
     },
     "execution_count": 4,
     "metadata": {},
     "output_type": "execute_result"
    }
   ],
   "source": [
    "df.head(2)"
   ]
  },
  {
   "cell_type": "code",
   "execution_count": 5,
   "id": "ce724edd",
   "metadata": {},
   "outputs": [
    {
     "data": {
      "text/plain": "         Order ID  Order Date   Ship Date     Ship Mode Customer ID  \\\n0  CA-2016-152156  08/11/2016  11/11/2016  Second Class    CG-12520   \n1  CA-2016-152156  08/11/2016  11/11/2016  Second Class    CG-12520   \n\n   Salesperson   Segment        Country       City     State  Postal Code  \\\n0  Claire Gute  Consumer  United States  Henderson  Kentucky      42420.0   \n1  Claire Gute  Consumer  United States  Henderson  Kentucky      42420.0   \n\n  Region       Product ID   Category Sub-Category  \\\n0  South  FUR-BO-10001798  Furniture    Bookcases   \n1  South  FUR-CH-10000454  Furniture       Chairs   \n\n                                        Product Name   Sales  Quantity  \\\n0                  Bush Somerset Collection Bookcase  261.96         2   \n1  Hon Deluxe Fabric Upholstered Stacking Chairs,...  731.94         3   \n\n   Discount    Profit  \n0       0.0   41.9136  \n1       0.0  219.5820  ",
      "text/html": "<div>\n<style scoped>\n    .dataframe tbody tr th:only-of-type {\n        vertical-align: middle;\n    }\n\n    .dataframe tbody tr th {\n        vertical-align: top;\n    }\n\n    .dataframe thead th {\n        text-align: right;\n    }\n</style>\n<table border=\"1\" class=\"dataframe\">\n  <thead>\n    <tr style=\"text-align: right;\">\n      <th></th>\n      <th>Order ID</th>\n      <th>Order Date</th>\n      <th>Ship Date</th>\n      <th>Ship Mode</th>\n      <th>Customer ID</th>\n      <th>Salesperson</th>\n      <th>Segment</th>\n      <th>Country</th>\n      <th>City</th>\n      <th>State</th>\n      <th>Postal Code</th>\n      <th>Region</th>\n      <th>Product ID</th>\n      <th>Category</th>\n      <th>Sub-Category</th>\n      <th>Product Name</th>\n      <th>Sales</th>\n      <th>Quantity</th>\n      <th>Discount</th>\n      <th>Profit</th>\n    </tr>\n  </thead>\n  <tbody>\n    <tr>\n      <th>0</th>\n      <td>CA-2016-152156</td>\n      <td>08/11/2016</td>\n      <td>11/11/2016</td>\n      <td>Second Class</td>\n      <td>CG-12520</td>\n      <td>Claire Gute</td>\n      <td>Consumer</td>\n      <td>United States</td>\n      <td>Henderson</td>\n      <td>Kentucky</td>\n      <td>42420.0</td>\n      <td>South</td>\n      <td>FUR-BO-10001798</td>\n      <td>Furniture</td>\n      <td>Bookcases</td>\n      <td>Bush Somerset Collection Bookcase</td>\n      <td>261.96</td>\n      <td>2</td>\n      <td>0.0</td>\n      <td>41.9136</td>\n    </tr>\n    <tr>\n      <th>1</th>\n      <td>CA-2016-152156</td>\n      <td>08/11/2016</td>\n      <td>11/11/2016</td>\n      <td>Second Class</td>\n      <td>CG-12520</td>\n      <td>Claire Gute</td>\n      <td>Consumer</td>\n      <td>United States</td>\n      <td>Henderson</td>\n      <td>Kentucky</td>\n      <td>42420.0</td>\n      <td>South</td>\n      <td>FUR-CH-10000454</td>\n      <td>Furniture</td>\n      <td>Chairs</td>\n      <td>Hon Deluxe Fabric Upholstered Stacking Chairs,...</td>\n      <td>731.94</td>\n      <td>3</td>\n      <td>0.0</td>\n      <td>219.5820</td>\n    </tr>\n  </tbody>\n</table>\n</div>"
     },
     "execution_count": 5,
     "metadata": {},
     "output_type": "execute_result"
    }
   ],
   "source": [
    "# 1.\tClean up the data by dropping any rows with missing values.\n",
    "df.dropna().head(2)"
   ]
  },
  {
   "cell_type": "code",
   "execution_count": 6,
   "id": "783c17cc",
   "metadata": {},
   "outputs": [
    {
     "data": {
      "text/plain": "            Salesperson      Sales\n2697  Christine Abelman  22638.480\n6826     Justin Ellison  17499.950\n8153       Sean Braxton  13999.960\n2623  Cassandra Brandow  11199.968\n4190          Dean Katz  10499.970",
      "text/html": "<div>\n<style scoped>\n    .dataframe tbody tr th:only-of-type {\n        vertical-align: middle;\n    }\n\n    .dataframe tbody tr th {\n        vertical-align: top;\n    }\n\n    .dataframe thead th {\n        text-align: right;\n    }\n</style>\n<table border=\"1\" class=\"dataframe\">\n  <thead>\n    <tr style=\"text-align: right;\">\n      <th></th>\n      <th>Salesperson</th>\n      <th>Sales</th>\n    </tr>\n  </thead>\n  <tbody>\n    <tr>\n      <th>2697</th>\n      <td>Christine Abelman</td>\n      <td>22638.480</td>\n    </tr>\n    <tr>\n      <th>6826</th>\n      <td>Justin Ellison</td>\n      <td>17499.950</td>\n    </tr>\n    <tr>\n      <th>8153</th>\n      <td>Sean Braxton</td>\n      <td>13999.960</td>\n    </tr>\n    <tr>\n      <th>2623</th>\n      <td>Cassandra Brandow</td>\n      <td>11199.968</td>\n    </tr>\n    <tr>\n      <th>4190</th>\n      <td>Dean Katz</td>\n      <td>10499.970</td>\n    </tr>\n  </tbody>\n</table>\n</div>"
     },
     "execution_count": 6,
     "metadata": {},
     "output_type": "execute_result"
    }
   ],
   "source": [
    "# 2.\tList the Top 5 salespeople in Sales according to each segment.\n",
    "\n",
    "topSalesPeople = df[['Salesperson', 'Sales']].nlargest(5, 'Sales')\n",
    "topSalesPeople"
   ]
  },
  {
   "cell_type": "code",
   "execution_count": 7,
   "id": "7a54c9b3",
   "metadata": {},
   "outputs": [
    {
     "data": {
      "text/plain": "         Order ID  Order Date   Ship Date       Ship Mode Customer ID  \\\n0  CA-2016-152156  08/11/2016  11/11/2016    Second Class    CG-12520   \n1  CA-2016-152156  08/11/2016  11/11/2016    Second Class    CG-12520   \n2  CA-2016-138688  12/06/2016  16/06/2016    Second Class    DV-13045   \n3  US-2015-108966  11/10/2015  18/10/2015  Standard Class    SO-20335   \n\n       Salesperson    Segment        Country             City       State  \\\n0      Claire Gute   Consumer  United States        Henderson    Kentucky   \n1      Claire Gute   Consumer  United States        Henderson    Kentucky   \n2  Darrin Van Huff  Corporate  United States      Los Angeles  California   \n3   Sean O'Donnell   Consumer  United States  Fort Lauderdale     Florida   \n\n   ...  Region       Product ID         Category Sub-Category  \\\n0  ...   South  FUR-BO-10001798        Furniture    Bookcases   \n1  ...   South  FUR-CH-10000454        Furniture       Chairs   \n2  ...    West  OFF-LA-10000240  Office Supplies       Labels   \n3  ...   South  FUR-TA-10000577        Furniture       Tables   \n\n                                        Product Name     Sales  Quantity  \\\n0                  Bush Somerset Collection Bookcase  261.9600         2   \n1  Hon Deluxe Fabric Upholstered Stacking Chairs,...  731.9400         3   \n2  Self-Adhesive Address Labels for Typewriters b...   14.6200         2   \n3      Bretford CR4500 Series Slim Rectangular Table  957.5775         5   \n\n   Discount    Profit      Price  \n0      0.00   41.9136   523.9200  \n1      0.00  219.5820  2195.8200  \n2      0.00    6.8714    29.2400  \n3      0.45 -383.0310  4787.8875  \n\n[4 rows x 21 columns]",
      "text/html": "<div>\n<style scoped>\n    .dataframe tbody tr th:only-of-type {\n        vertical-align: middle;\n    }\n\n    .dataframe tbody tr th {\n        vertical-align: top;\n    }\n\n    .dataframe thead th {\n        text-align: right;\n    }\n</style>\n<table border=\"1\" class=\"dataframe\">\n  <thead>\n    <tr style=\"text-align: right;\">\n      <th></th>\n      <th>Order ID</th>\n      <th>Order Date</th>\n      <th>Ship Date</th>\n      <th>Ship Mode</th>\n      <th>Customer ID</th>\n      <th>Salesperson</th>\n      <th>Segment</th>\n      <th>Country</th>\n      <th>City</th>\n      <th>State</th>\n      <th>...</th>\n      <th>Region</th>\n      <th>Product ID</th>\n      <th>Category</th>\n      <th>Sub-Category</th>\n      <th>Product Name</th>\n      <th>Sales</th>\n      <th>Quantity</th>\n      <th>Discount</th>\n      <th>Profit</th>\n      <th>Price</th>\n    </tr>\n  </thead>\n  <tbody>\n    <tr>\n      <th>0</th>\n      <td>CA-2016-152156</td>\n      <td>08/11/2016</td>\n      <td>11/11/2016</td>\n      <td>Second Class</td>\n      <td>CG-12520</td>\n      <td>Claire Gute</td>\n      <td>Consumer</td>\n      <td>United States</td>\n      <td>Henderson</td>\n      <td>Kentucky</td>\n      <td>...</td>\n      <td>South</td>\n      <td>FUR-BO-10001798</td>\n      <td>Furniture</td>\n      <td>Bookcases</td>\n      <td>Bush Somerset Collection Bookcase</td>\n      <td>261.9600</td>\n      <td>2</td>\n      <td>0.00</td>\n      <td>41.9136</td>\n      <td>523.9200</td>\n    </tr>\n    <tr>\n      <th>1</th>\n      <td>CA-2016-152156</td>\n      <td>08/11/2016</td>\n      <td>11/11/2016</td>\n      <td>Second Class</td>\n      <td>CG-12520</td>\n      <td>Claire Gute</td>\n      <td>Consumer</td>\n      <td>United States</td>\n      <td>Henderson</td>\n      <td>Kentucky</td>\n      <td>...</td>\n      <td>South</td>\n      <td>FUR-CH-10000454</td>\n      <td>Furniture</td>\n      <td>Chairs</td>\n      <td>Hon Deluxe Fabric Upholstered Stacking Chairs,...</td>\n      <td>731.9400</td>\n      <td>3</td>\n      <td>0.00</td>\n      <td>219.5820</td>\n      <td>2195.8200</td>\n    </tr>\n    <tr>\n      <th>2</th>\n      <td>CA-2016-138688</td>\n      <td>12/06/2016</td>\n      <td>16/06/2016</td>\n      <td>Second Class</td>\n      <td>DV-13045</td>\n      <td>Darrin Van Huff</td>\n      <td>Corporate</td>\n      <td>United States</td>\n      <td>Los Angeles</td>\n      <td>California</td>\n      <td>...</td>\n      <td>West</td>\n      <td>OFF-LA-10000240</td>\n      <td>Office Supplies</td>\n      <td>Labels</td>\n      <td>Self-Adhesive Address Labels for Typewriters b...</td>\n      <td>14.6200</td>\n      <td>2</td>\n      <td>0.00</td>\n      <td>6.8714</td>\n      <td>29.2400</td>\n    </tr>\n    <tr>\n      <th>3</th>\n      <td>US-2015-108966</td>\n      <td>11/10/2015</td>\n      <td>18/10/2015</td>\n      <td>Standard Class</td>\n      <td>SO-20335</td>\n      <td>Sean O'Donnell</td>\n      <td>Consumer</td>\n      <td>United States</td>\n      <td>Fort Lauderdale</td>\n      <td>Florida</td>\n      <td>...</td>\n      <td>South</td>\n      <td>FUR-TA-10000577</td>\n      <td>Furniture</td>\n      <td>Tables</td>\n      <td>Bretford CR4500 Series Slim Rectangular Table</td>\n      <td>957.5775</td>\n      <td>5</td>\n      <td>0.45</td>\n      <td>-383.0310</td>\n      <td>4787.8875</td>\n    </tr>\n  </tbody>\n</table>\n<p>4 rows × 21 columns</p>\n</div>"
     },
     "execution_count": 7,
     "metadata": {},
     "output_type": "execute_result"
    }
   ],
   "source": [
    "# 3.\tCreate a calculated column called ‘Price’ (=Sales / Quantity) for each product. \n",
    "df['Price'] = df.Sales * df.Quantity\n",
    "\n",
    "df.head(4)"
   ]
  },
  {
   "cell_type": "code",
   "execution_count": 8,
   "id": "79ff6cc1",
   "metadata": {},
   "outputs": [
    {
     "data": {
      "text/plain": "                 sum\nRegion              \nWest     108418.4489\nEast      91522.7800\nSouth     46749.4303\nCentral   39700.1417",
      "text/html": "<div>\n<style scoped>\n    .dataframe tbody tr th:only-of-type {\n        vertical-align: middle;\n    }\n\n    .dataframe tbody tr th {\n        vertical-align: top;\n    }\n\n    .dataframe thead th {\n        text-align: right;\n    }\n</style>\n<table border=\"1\" class=\"dataframe\">\n  <thead>\n    <tr style=\"text-align: right;\">\n      <th></th>\n      <th>sum</th>\n    </tr>\n    <tr>\n      <th>Region</th>\n      <th></th>\n    </tr>\n  </thead>\n  <tbody>\n    <tr>\n      <th>West</th>\n      <td>108418.4489</td>\n    </tr>\n    <tr>\n      <th>East</th>\n      <td>91522.7800</td>\n    </tr>\n    <tr>\n      <th>South</th>\n      <td>46749.4303</td>\n    </tr>\n    <tr>\n      <th>Central</th>\n      <td>39700.1417</td>\n    </tr>\n  </tbody>\n</table>\n</div>"
     },
     "execution_count": 8,
     "metadata": {},
     "output_type": "execute_result"
    }
   ],
   "source": [
    "# 4.\tShow the sum of ‘Profit’ for each region (highest first) (use .agg method).  \n",
    "\n",
    "profitRegion = df.Profit.groupby(df['Region']).agg(['sum']).sort_values('sum', ascending=False)\n",
    "profitRegion"
   ]
  },
  {
   "cell_type": "code",
   "execution_count": 9,
   "id": "9e8f6a36",
   "metadata": {},
   "outputs": [
    {
     "data": {
      "text/plain": "                 Postal Code        Sales  Quantity  Discount       Profit  \\\nCategory                                                                     \nTechnology       102603754.0  836154.0330      6939    244.40  145454.9481   \nFurniture        118196026.0  741999.7953      8028    368.89   18451.2728   \nOffice Supplies  330720570.0  719034.0720     22904    947.80  122484.5800   \n\n                        Price  \nCategory                       \nTechnology       4.080262e+06  \nFurniture        3.859215e+06  \nOffice Supplies  3.548559e+06  ",
      "text/html": "<div>\n<style scoped>\n    .dataframe tbody tr th:only-of-type {\n        vertical-align: middle;\n    }\n\n    .dataframe tbody tr th {\n        vertical-align: top;\n    }\n\n    .dataframe thead th {\n        text-align: right;\n    }\n</style>\n<table border=\"1\" class=\"dataframe\">\n  <thead>\n    <tr style=\"text-align: right;\">\n      <th></th>\n      <th>Postal Code</th>\n      <th>Sales</th>\n      <th>Quantity</th>\n      <th>Discount</th>\n      <th>Profit</th>\n      <th>Price</th>\n    </tr>\n    <tr>\n      <th>Category</th>\n      <th></th>\n      <th></th>\n      <th></th>\n      <th></th>\n      <th></th>\n      <th></th>\n    </tr>\n  </thead>\n  <tbody>\n    <tr>\n      <th>Technology</th>\n      <td>102603754.0</td>\n      <td>836154.0330</td>\n      <td>6939</td>\n      <td>244.40</td>\n      <td>145454.9481</td>\n      <td>4.080262e+06</td>\n    </tr>\n    <tr>\n      <th>Furniture</th>\n      <td>118196026.0</td>\n      <td>741999.7953</td>\n      <td>8028</td>\n      <td>368.89</td>\n      <td>18451.2728</td>\n      <td>3.859215e+06</td>\n    </tr>\n    <tr>\n      <th>Office Supplies</th>\n      <td>330720570.0</td>\n      <td>719034.0720</td>\n      <td>22904</td>\n      <td>947.80</td>\n      <td>122484.5800</td>\n      <td>3.548559e+06</td>\n    </tr>\n  </tbody>\n</table>\n</div>"
     },
     "execution_count": 9,
     "metadata": {},
     "output_type": "execute_result"
    }
   ],
   "source": [
    "# 5.\tUsing groupby, display the top 3 sales for each category and subcategory.\n",
    "\n",
    "salesByCategory = df.groupby('Category').sum().sort_values('Sales', ascending=False)\n",
    "salesByCategory"
   ]
  },
  {
   "cell_type": "code",
   "execution_count": 10,
   "id": "d06780ff",
   "metadata": {},
   "outputs": [
    {
     "data": {
      "text/plain": "                                           mean         sum\n                                          Sales       Sales\nProfit     Category        Ship Date                       \n-6599.978  Technology      02/12/2016   4499.98     4499.98\n-3839.9904 Technology      04/11/2017   7999.98     7999.98\n-3701.8928 Office Supplies 30/07/2014   2177.58     2177.58\n-3399.98   Technology      23/04/2017   2549.98     2549.98\n-2929.4845 Office Supplies 13/12/2017   1889.99     1889.99\n...                                         ...         ...\n4946.37    Office Supplies 21/12/2016   9892.74     9892.74\n5039.9856  Technology      22/11/2017  10499.97    10499.97\n6719.9808  Technology      25/03/2017  13999.96    13999.96\n8399.976   Technology      09/10/2016  17499.95    17499.95\nAll                                      229.88  2297187.90\n\n[9990 rows x 2 columns]",
      "text/html": "<div>\n<style scoped>\n    .dataframe tbody tr th:only-of-type {\n        vertical-align: middle;\n    }\n\n    .dataframe tbody tr th {\n        vertical-align: top;\n    }\n\n    .dataframe thead tr th {\n        text-align: left;\n    }\n\n    .dataframe thead tr:last-of-type th {\n        text-align: right;\n    }\n</style>\n<table border=\"1\" class=\"dataframe\">\n  <thead>\n    <tr>\n      <th></th>\n      <th></th>\n      <th></th>\n      <th>mean</th>\n      <th>sum</th>\n    </tr>\n    <tr>\n      <th></th>\n      <th></th>\n      <th></th>\n      <th>Sales</th>\n      <th>Sales</th>\n    </tr>\n    <tr>\n      <th>Profit</th>\n      <th>Category</th>\n      <th>Ship Date</th>\n      <th></th>\n      <th></th>\n    </tr>\n  </thead>\n  <tbody>\n    <tr>\n      <th>-6599.978</th>\n      <th>Technology</th>\n      <th>02/12/2016</th>\n      <td>4499.98</td>\n      <td>4499.98</td>\n    </tr>\n    <tr>\n      <th>-3839.9904</th>\n      <th>Technology</th>\n      <th>04/11/2017</th>\n      <td>7999.98</td>\n      <td>7999.98</td>\n    </tr>\n    <tr>\n      <th>-3701.8928</th>\n      <th>Office Supplies</th>\n      <th>30/07/2014</th>\n      <td>2177.58</td>\n      <td>2177.58</td>\n    </tr>\n    <tr>\n      <th>-3399.98</th>\n      <th>Technology</th>\n      <th>23/04/2017</th>\n      <td>2549.98</td>\n      <td>2549.98</td>\n    </tr>\n    <tr>\n      <th>-2929.4845</th>\n      <th>Office Supplies</th>\n      <th>13/12/2017</th>\n      <td>1889.99</td>\n      <td>1889.99</td>\n    </tr>\n    <tr>\n      <th>...</th>\n      <th>...</th>\n      <th>...</th>\n      <td>...</td>\n      <td>...</td>\n    </tr>\n    <tr>\n      <th>4946.37</th>\n      <th>Office Supplies</th>\n      <th>21/12/2016</th>\n      <td>9892.74</td>\n      <td>9892.74</td>\n    </tr>\n    <tr>\n      <th>5039.9856</th>\n      <th>Technology</th>\n      <th>22/11/2017</th>\n      <td>10499.97</td>\n      <td>10499.97</td>\n    </tr>\n    <tr>\n      <th>6719.9808</th>\n      <th>Technology</th>\n      <th>25/03/2017</th>\n      <td>13999.96</td>\n      <td>13999.96</td>\n    </tr>\n    <tr>\n      <th>8399.976</th>\n      <th>Technology</th>\n      <th>09/10/2016</th>\n      <td>17499.95</td>\n      <td>17499.95</td>\n    </tr>\n    <tr>\n      <th>All</th>\n      <th></th>\n      <th></th>\n      <td>229.88</td>\n      <td>2297187.90</td>\n    </tr>\n  </tbody>\n</table>\n<p>9990 rows × 2 columns</p>\n</div>"
     },
     "execution_count": 10,
     "metadata": {},
     "output_type": "execute_result"
    }
   ],
   "source": [
    "# 6.\tUsing a pivot table, show the sum and mean of ‘Sales’ in terms of Profit and Category and Shipped. \n",
    "table = df.pivot_table(index=['Profit', 'Category', 'Ship Date'], values=['Sales'], aggfunc=['mean', 'sum'], margins=True).round(2)\n",
    "table"
   ]
  },
  {
   "cell_type": "code",
   "execution_count": 11,
   "id": "5cd2296b",
   "metadata": {},
   "outputs": [
    {
     "data": {
      "text/plain": "           Order ID  Order Date   Ship Date       Ship Mode Customer ID  \\\n318  CA-2014-164973  04/11/2014  09/11/2014  Standard Class    NM-18445   \n319  CA-2014-164973  04/11/2014  09/11/2014  Standard Class    NM-18445   \n320  CA-2014-164973  04/11/2014  09/11/2014  Standard Class    NM-18445   \n\n      Salesperson      Segment        Country           City     State  ...  \\\n318  Nathan Mautz  Home Office  United States  New York City  New York  ...   \n319  Nathan Mautz  Home Office  United States  New York City  New York  ...   \n320  Nathan Mautz  Home Office  United States  New York City  New York  ...   \n\n     Region       Product ID    Category Sub-Category  \\\n318    East  TEC-MA-10002927  Technology     Machines   \n319    East  TEC-PH-10004093  Technology       Phones   \n320    East  TEC-AC-10000892  Technology  Accessories   \n\n                                          Product Name    Sales  Quantity  \\\n318  Canon imageCLASS MF7460 Monochrome Digital Las...  3991.98         2   \n319                                 Panasonic Kx-TS550   275.94         6   \n320        NETGEAR N750 Dual Band Wi-Fi Gigabit Router   360.00         4   \n\n     Discount     Profit    Price  \n318       0.0  1995.9900  7983.96  \n319       0.0    80.0226  1655.64  \n320       0.0   129.6000  1440.00  \n\n[3 rows x 21 columns]",
      "text/html": "<div>\n<style scoped>\n    .dataframe tbody tr th:only-of-type {\n        vertical-align: middle;\n    }\n\n    .dataframe tbody tr th {\n        vertical-align: top;\n    }\n\n    .dataframe thead th {\n        text-align: right;\n    }\n</style>\n<table border=\"1\" class=\"dataframe\">\n  <thead>\n    <tr style=\"text-align: right;\">\n      <th></th>\n      <th>Order ID</th>\n      <th>Order Date</th>\n      <th>Ship Date</th>\n      <th>Ship Mode</th>\n      <th>Customer ID</th>\n      <th>Salesperson</th>\n      <th>Segment</th>\n      <th>Country</th>\n      <th>City</th>\n      <th>State</th>\n      <th>...</th>\n      <th>Region</th>\n      <th>Product ID</th>\n      <th>Category</th>\n      <th>Sub-Category</th>\n      <th>Product Name</th>\n      <th>Sales</th>\n      <th>Quantity</th>\n      <th>Discount</th>\n      <th>Profit</th>\n      <th>Price</th>\n    </tr>\n  </thead>\n  <tbody>\n    <tr>\n      <th>318</th>\n      <td>CA-2014-164973</td>\n      <td>04/11/2014</td>\n      <td>09/11/2014</td>\n      <td>Standard Class</td>\n      <td>NM-18445</td>\n      <td>Nathan Mautz</td>\n      <td>Home Office</td>\n      <td>United States</td>\n      <td>New York City</td>\n      <td>New York</td>\n      <td>...</td>\n      <td>East</td>\n      <td>TEC-MA-10002927</td>\n      <td>Technology</td>\n      <td>Machines</td>\n      <td>Canon imageCLASS MF7460 Monochrome Digital Las...</td>\n      <td>3991.98</td>\n      <td>2</td>\n      <td>0.0</td>\n      <td>1995.9900</td>\n      <td>7983.96</td>\n    </tr>\n    <tr>\n      <th>319</th>\n      <td>CA-2014-164973</td>\n      <td>04/11/2014</td>\n      <td>09/11/2014</td>\n      <td>Standard Class</td>\n      <td>NM-18445</td>\n      <td>Nathan Mautz</td>\n      <td>Home Office</td>\n      <td>United States</td>\n      <td>New York City</td>\n      <td>New York</td>\n      <td>...</td>\n      <td>East</td>\n      <td>TEC-PH-10004093</td>\n      <td>Technology</td>\n      <td>Phones</td>\n      <td>Panasonic Kx-TS550</td>\n      <td>275.94</td>\n      <td>6</td>\n      <td>0.0</td>\n      <td>80.0226</td>\n      <td>1655.64</td>\n    </tr>\n    <tr>\n      <th>320</th>\n      <td>CA-2014-164973</td>\n      <td>04/11/2014</td>\n      <td>09/11/2014</td>\n      <td>Standard Class</td>\n      <td>NM-18445</td>\n      <td>Nathan Mautz</td>\n      <td>Home Office</td>\n      <td>United States</td>\n      <td>New York City</td>\n      <td>New York</td>\n      <td>...</td>\n      <td>East</td>\n      <td>TEC-AC-10000892</td>\n      <td>Technology</td>\n      <td>Accessories</td>\n      <td>NETGEAR N750 Dual Band Wi-Fi Gigabit Router</td>\n      <td>360.00</td>\n      <td>4</td>\n      <td>0.0</td>\n      <td>129.6000</td>\n      <td>1440.00</td>\n    </tr>\n  </tbody>\n</table>\n<p>3 rows × 21 columns</p>\n</div>"
     },
     "execution_count": 11,
     "metadata": {},
     "output_type": "execute_result"
    }
   ],
   "source": [
    "# 7.\tFind the Technology Accessories sold in New York City worth more than $300 and sold by Nathan Mautz in 2014. \n",
    "\n",
    "technologyNY = df.loc[(df['Category'] == 'Technology') & (df['City'] == 'New York City') & (df['Salesperson'] == 'Nathan Mautz')\\\n",
    "                      & (df['Price'] > 300)]\n",
    "technologyNY.head(5)"
   ]
  },
  {
   "cell_type": "code",
   "execution_count": 12,
   "id": "80d096ba",
   "metadata": {},
   "outputs": [
    {
     "data": {
      "text/plain": "           Order ID  Order Date   Ship Date     Ship Mode Customer ID  \\\n182  CA-2014-158274  19/11/2014  24/11/2014  Second Class    RM-19675   \n\n       Salesperson      Segment        Country    City      State  ...  \\\n182  Robert Marley  Home Office  United States  Monroe  Louisiana  ...   \n\n     Region       Product ID    Category Sub-Category  Product Name   Sales  \\\n182   South  TEC-PH-10003273  Technology       Phones  AT&T TR1909W  503.96   \n\n     Quantity  Discount    Profit    Price  \n182         4       0.0  131.0296  2015.84  \n\n[1 rows x 21 columns]",
      "text/html": "<div>\n<style scoped>\n    .dataframe tbody tr th:only-of-type {\n        vertical-align: middle;\n    }\n\n    .dataframe tbody tr th {\n        vertical-align: top;\n    }\n\n    .dataframe thead th {\n        text-align: right;\n    }\n</style>\n<table border=\"1\" class=\"dataframe\">\n  <thead>\n    <tr style=\"text-align: right;\">\n      <th></th>\n      <th>Order ID</th>\n      <th>Order Date</th>\n      <th>Ship Date</th>\n      <th>Ship Mode</th>\n      <th>Customer ID</th>\n      <th>Salesperson</th>\n      <th>Segment</th>\n      <th>Country</th>\n      <th>City</th>\n      <th>State</th>\n      <th>...</th>\n      <th>Region</th>\n      <th>Product ID</th>\n      <th>Category</th>\n      <th>Sub-Category</th>\n      <th>Product Name</th>\n      <th>Sales</th>\n      <th>Quantity</th>\n      <th>Discount</th>\n      <th>Profit</th>\n      <th>Price</th>\n    </tr>\n  </thead>\n  <tbody>\n    <tr>\n      <th>182</th>\n      <td>CA-2014-158274</td>\n      <td>19/11/2014</td>\n      <td>24/11/2014</td>\n      <td>Second Class</td>\n      <td>RM-19675</td>\n      <td>Robert Marley</td>\n      <td>Home Office</td>\n      <td>United States</td>\n      <td>Monroe</td>\n      <td>Louisiana</td>\n      <td>...</td>\n      <td>South</td>\n      <td>TEC-PH-10003273</td>\n      <td>Technology</td>\n      <td>Phones</td>\n      <td>AT&amp;T TR1909W</td>\n      <td>503.96</td>\n      <td>4</td>\n      <td>0.0</td>\n      <td>131.0296</td>\n      <td>2015.84</td>\n    </tr>\n  </tbody>\n</table>\n<p>1 rows × 21 columns</p>\n</div>"
     },
     "execution_count": 12,
     "metadata": {},
     "output_type": "execute_result"
    }
   ],
   "source": [
    "# 8.\tFind all the products with ID #TEC-PH-10003273 in the ‘Home office’ segment that were shipped ‘Second class’ in 2014.\n",
    "df2 = df.loc[(df['Product ID'] == 'TEC-PH-10003273') & (df['Segment'] == 'Home Office') & (df['Ship Mode'] == 'Second Class')\\\n",
    "            & (2014 in df['Ship Date'])]\n",
    "\n",
    "df2"
   ]
  },
  {
   "cell_type": "code",
   "execution_count": 23,
   "id": "b1f8d475",
   "metadata": {},
   "outputs": [
    {
     "data": {
      "text/plain": "<AxesSubplot:xlabel='State'>"
     },
     "execution_count": 23,
     "metadata": {},
     "output_type": "execute_result"
    },
    {
     "data": {
      "text/plain": "<Figure size 576x396 with 1 Axes>",
      "image/png": "[encoded data removed]"
     },
     "metadata": {},
     "output_type": "display_data"
    }
   ],
   "source": [
    "# 9.\tAny sales visualisation (graph) that you think would help the MegaStore management to interpret their sales data better.\n",
    "df_product = df[['Sales','State']].nlargest(5, 'Sales')\n",
    "df_product.groupby(['State']).sum().sort_values('Sales', ascending=True).plot(kind = 'bar')"
   ]
  }
 ],
 "metadata": {
  "kernelspec": {
   "display_name": "Python 3 (ipykernel)",
   "language": "python",
   "name": "python3"
  },
  "language_info": {
   "codemirror_mode": {
    "name": "ipython",
    "version": 3
   },
   "file_extension": ".py",
   "mimetype": "text/x-python",
   "name": "python",
   "nbconvert_exporter": "python",
   "pygments_lexer": "ipython3",
   "version": "3.9.7"
  }
 },
 "nbformat": 4,
 "nbformat_minor": 5
}

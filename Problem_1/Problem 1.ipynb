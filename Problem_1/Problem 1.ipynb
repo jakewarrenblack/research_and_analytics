{
 "cells": [
  {
   "cell_type": "code",
   "execution_count": 166,
   "id": "eb735465",
   "metadata": {},
   "outputs": [],
   "source": [
    "import pandas as pd\n",
    "import numpy as np\n",
    "import matplotlib.pyplot as plt\n",
    "from matplotlib import rcParams\n",
    "import seaborn as sns\n",
    "import plotly.graph_objs as go\n",
    "import plotly.express as px\n",
    "%matplotlib inline"
   ]
  },
  {
   "cell_type": "code",
   "execution_count": 167,
   "id": "22d4417b",
   "metadata": {},
   "outputs": [],
   "source": [
    "# Needed encoding option, or error thrown:\n",
    "# 'UnicodeDecodeError: 'utf-8' codec can't decode bytes in position 0-1: invalid continuation byte'\n",
    "df = pd.read_csv('megastore_sales.csv', encoding = 'latin')"
   ]
  },
  {
   "cell_type": "code",
   "execution_count": 168,
   "id": "2a802d02",
   "metadata": {},
   "outputs": [
    {
     "data": {
      "text/plain": "         Order ID  Order Date   Ship Date     Ship Mode Customer ID  \\\n0  CA-2016-152156  08/11/2016  11/11/2016  Second Class    CG-12520   \n1  CA-2016-152156  08/11/2016  11/11/2016  Second Class    CG-12520   \n\n   Salesperson   Segment        Country       City     State  Postal Code  \\\n0  Claire Gute  Consumer  United States  Henderson  Kentucky      42420.0   \n1  Claire Gute  Consumer  United States  Henderson  Kentucky      42420.0   \n\n  Region       Product ID   Category Sub-Category  \\\n0  South  FUR-BO-10001798  Furniture    Bookcases   \n1  South  FUR-CH-10000454  Furniture       Chairs   \n\n                                        Product Name   Sales  Quantity  \\\n0                  Bush Somerset Collection Bookcase  261.96         2   \n1  Hon Deluxe Fabric Upholstered Stacking Chairs,...  731.94         3   \n\n   Discount    Profit  \n0       0.0   41.9136  \n1       0.0  219.5820  ",
      "text/html": "<div>\n<style scoped>\n    .dataframe tbody tr th:only-of-type {\n        vertical-align: middle;\n    }\n\n    .dataframe tbody tr th {\n        vertical-align: top;\n    }\n\n    .dataframe thead th {\n        text-align: right;\n    }\n</style>\n<table border=\"1\" class=\"dataframe\">\n  <thead>\n    <tr style=\"text-align: right;\">\n      <th></th>\n      <th>Order ID</th>\n      <th>Order Date</th>\n      <th>Ship Date</th>\n      <th>Ship Mode</th>\n      <th>Customer ID</th>\n      <th>Salesperson</th>\n      <th>Segment</th>\n      <th>Country</th>\n      <th>City</th>\n      <th>State</th>\n      <th>Postal Code</th>\n      <th>Region</th>\n      <th>Product ID</th>\n      <th>Category</th>\n      <th>Sub-Category</th>\n      <th>Product Name</th>\n      <th>Sales</th>\n      <th>Quantity</th>\n      <th>Discount</th>\n      <th>Profit</th>\n    </tr>\n  </thead>\n  <tbody>\n    <tr>\n      <th>0</th>\n      <td>CA-2016-152156</td>\n      <td>08/11/2016</td>\n      <td>11/11/2016</td>\n      <td>Second Class</td>\n      <td>CG-12520</td>\n      <td>Claire Gute</td>\n      <td>Consumer</td>\n      <td>United States</td>\n      <td>Henderson</td>\n      <td>Kentucky</td>\n      <td>42420.0</td>\n      <td>South</td>\n      <td>FUR-BO-10001798</td>\n      <td>Furniture</td>\n      <td>Bookcases</td>\n      <td>Bush Somerset Collection Bookcase</td>\n      <td>261.96</td>\n      <td>2</td>\n      <td>0.0</td>\n      <td>41.9136</td>\n    </tr>\n    <tr>\n      <th>1</th>\n      <td>CA-2016-152156</td>\n      <td>08/11/2016</td>\n      <td>11/11/2016</td>\n      <td>Second Class</td>\n      <td>CG-12520</td>\n      <td>Claire Gute</td>\n      <td>Consumer</td>\n      <td>United States</td>\n      <td>Henderson</td>\n      <td>Kentucky</td>\n      <td>42420.0</td>\n      <td>South</td>\n      <td>FUR-CH-10000454</td>\n      <td>Furniture</td>\n      <td>Chairs</td>\n      <td>Hon Deluxe Fabric Upholstered Stacking Chairs,...</td>\n      <td>731.94</td>\n      <td>3</td>\n      <td>0.0</td>\n      <td>219.5820</td>\n    </tr>\n  </tbody>\n</table>\n</div>"
     },
     "execution_count": 168,
     "metadata": {},
     "output_type": "execute_result"
    }
   ],
   "source": [
    "df.head(2)"
   ]
  },
  {
   "cell_type": "markdown",
   "source": [
    "# 1.\tClean up the data by dropping any rows with missing values."
   ],
   "metadata": {
    "collapsed": false
   }
  },
  {
   "cell_type": "code",
   "execution_count": 169,
   "id": "ce724edd",
   "metadata": {},
   "outputs": [
    {
     "data": {
      "text/plain": "         Order ID  Order Date   Ship Date     Ship Mode Customer ID  \\\n0  CA-2016-152156  08/11/2016  11/11/2016  Second Class    CG-12520   \n1  CA-2016-152156  08/11/2016  11/11/2016  Second Class    CG-12520   \n\n   Salesperson   Segment        Country       City     State  Postal Code  \\\n0  Claire Gute  Consumer  United States  Henderson  Kentucky      42420.0   \n1  Claire Gute  Consumer  United States  Henderson  Kentucky      42420.0   \n\n  Region       Product ID   Category Sub-Category  \\\n0  South  FUR-BO-10001798  Furniture    Bookcases   \n1  South  FUR-CH-10000454  Furniture       Chairs   \n\n                                        Product Name   Sales  Quantity  \\\n0                  Bush Somerset Collection Bookcase  261.96         2   \n1  Hon Deluxe Fabric Upholstered Stacking Chairs,...  731.94         3   \n\n   Discount    Profit  \n0       0.0   41.9136  \n1       0.0  219.5820  ",
      "text/html": "<div>\n<style scoped>\n    .dataframe tbody tr th:only-of-type {\n        vertical-align: middle;\n    }\n\n    .dataframe tbody tr th {\n        vertical-align: top;\n    }\n\n    .dataframe thead th {\n        text-align: right;\n    }\n</style>\n<table border=\"1\" class=\"dataframe\">\n  <thead>\n    <tr style=\"text-align: right;\">\n      <th></th>\n      <th>Order ID</th>\n      <th>Order Date</th>\n      <th>Ship Date</th>\n      <th>Ship Mode</th>\n      <th>Customer ID</th>\n      <th>Salesperson</th>\n      <th>Segment</th>\n      <th>Country</th>\n      <th>City</th>\n      <th>State</th>\n      <th>Postal Code</th>\n      <th>Region</th>\n      <th>Product ID</th>\n      <th>Category</th>\n      <th>Sub-Category</th>\n      <th>Product Name</th>\n      <th>Sales</th>\n      <th>Quantity</th>\n      <th>Discount</th>\n      <th>Profit</th>\n    </tr>\n  </thead>\n  <tbody>\n    <tr>\n      <th>0</th>\n      <td>CA-2016-152156</td>\n      <td>08/11/2016</td>\n      <td>11/11/2016</td>\n      <td>Second Class</td>\n      <td>CG-12520</td>\n      <td>Claire Gute</td>\n      <td>Consumer</td>\n      <td>United States</td>\n      <td>Henderson</td>\n      <td>Kentucky</td>\n      <td>42420.0</td>\n      <td>South</td>\n      <td>FUR-BO-10001798</td>\n      <td>Furniture</td>\n      <td>Bookcases</td>\n      <td>Bush Somerset Collection Bookcase</td>\n      <td>261.96</td>\n      <td>2</td>\n      <td>0.0</td>\n      <td>41.9136</td>\n    </tr>\n    <tr>\n      <th>1</th>\n      <td>CA-2016-152156</td>\n      <td>08/11/2016</td>\n      <td>11/11/2016</td>\n      <td>Second Class</td>\n      <td>CG-12520</td>\n      <td>Claire Gute</td>\n      <td>Consumer</td>\n      <td>United States</td>\n      <td>Henderson</td>\n      <td>Kentucky</td>\n      <td>42420.0</td>\n      <td>South</td>\n      <td>FUR-CH-10000454</td>\n      <td>Furniture</td>\n      <td>Chairs</td>\n      <td>Hon Deluxe Fabric Upholstered Stacking Chairs,...</td>\n      <td>731.94</td>\n      <td>3</td>\n      <td>0.0</td>\n      <td>219.5820</td>\n    </tr>\n  </tbody>\n</table>\n</div>"
     },
     "execution_count": 169,
     "metadata": {},
     "output_type": "execute_result"
    }
   ],
   "source": [
    "# Using dropna to remove null values\n",
    "df.dropna().head(2)"
   ]
  },
  {
   "cell_type": "markdown",
   "source": [
    "# 2.\tList the Top 5 salespeople in Sales according to each segment."
   ],
   "metadata": {
    "collapsed": false
   },
   "execution_count": 1
  },
  {
   "cell_type": "code",
   "execution_count": 170,
   "id": "783c17cc",
   "metadata": {},
   "outputs": [
    {
     "data": {
      "text/plain": "        Sales      Segment        Salesperson\n0   13999.960     Consumer       Sean Braxton\n1   10499.970     Consumer          Dean Katz\n2    9892.740     Consumer         Erin Smith\n3    9449.950     Consumer       Sanjit Chand\n4    8749.950     Consumer       Lena Radford\n5   17499.950    Corporate     Justin Ellison\n6    9099.930    Corporate    Tracy Blumstein\n7    7999.980    Corporate        Ken Brennan\n8    5199.960    Corporate   Kristen Hastings\n9    5083.960    Corporate   Victoria Brennan\n10  22638.480  Home Office  Christine Abelman\n11  11199.968  Home Office  Cassandra Brandow\n12   5399.910  Home Office   Alejandro Savely\n13   4535.976  Home Office          Rob Lucas\n14   4355.168  Home Office    Adam Bellavance",
      "text/html": "<div>\n<style scoped>\n    .dataframe tbody tr th:only-of-type {\n        vertical-align: middle;\n    }\n\n    .dataframe tbody tr th {\n        vertical-align: top;\n    }\n\n    .dataframe thead th {\n        text-align: right;\n    }\n</style>\n<table border=\"1\" class=\"dataframe\">\n  <thead>\n    <tr style=\"text-align: right;\">\n      <th></th>\n      <th>Sales</th>\n      <th>Segment</th>\n      <th>Salesperson</th>\n    </tr>\n  </thead>\n  <tbody>\n    <tr>\n      <th>0</th>\n      <td>13999.960</td>\n      <td>Consumer</td>\n      <td>Sean Braxton</td>\n    </tr>\n    <tr>\n      <th>1</th>\n      <td>10499.970</td>\n      <td>Consumer</td>\n      <td>Dean Katz</td>\n    </tr>\n    <tr>\n      <th>2</th>\n      <td>9892.740</td>\n      <td>Consumer</td>\n      <td>Erin Smith</td>\n    </tr>\n    <tr>\n      <th>3</th>\n      <td>9449.950</td>\n      <td>Consumer</td>\n      <td>Sanjit Chand</td>\n    </tr>\n    <tr>\n      <th>4</th>\n      <td>8749.950</td>\n      <td>Consumer</td>\n      <td>Lena Radford</td>\n    </tr>\n    <tr>\n      <th>5</th>\n      <td>17499.950</td>\n      <td>Corporate</td>\n      <td>Justin Ellison</td>\n    </tr>\n    <tr>\n      <th>6</th>\n      <td>9099.930</td>\n      <td>Corporate</td>\n      <td>Tracy Blumstein</td>\n    </tr>\n    <tr>\n      <th>7</th>\n      <td>7999.980</td>\n      <td>Corporate</td>\n      <td>Ken Brennan</td>\n    </tr>\n    <tr>\n      <th>8</th>\n      <td>5199.960</td>\n      <td>Corporate</td>\n      <td>Kristen Hastings</td>\n    </tr>\n    <tr>\n      <th>9</th>\n      <td>5083.960</td>\n      <td>Corporate</td>\n      <td>Victoria Brennan</td>\n    </tr>\n    <tr>\n      <th>10</th>\n      <td>22638.480</td>\n      <td>Home Office</td>\n      <td>Christine Abelman</td>\n    </tr>\n    <tr>\n      <th>11</th>\n      <td>11199.968</td>\n      <td>Home Office</td>\n      <td>Cassandra Brandow</td>\n    </tr>\n    <tr>\n      <th>12</th>\n      <td>5399.910</td>\n      <td>Home Office</td>\n      <td>Alejandro Savely</td>\n    </tr>\n    <tr>\n      <th>13</th>\n      <td>4535.976</td>\n      <td>Home Office</td>\n      <td>Rob Lucas</td>\n    </tr>\n    <tr>\n      <th>14</th>\n      <td>4355.168</td>\n      <td>Home Office</td>\n      <td>Adam Bellavance</td>\n    </tr>\n  </tbody>\n</table>\n</div>"
     },
     "execution_count": 170,
     "metadata": {},
     "output_type": "execute_result"
    }
   ],
   "source": [
    "# Pulling sales out of the dataframe, grouping by segment, get the 5 highest sales values\n",
    "topFiveSalesPerSegment = df['Sales'].groupby(df['Segment']).nlargest(5)\n",
    "\n",
    "# Merge our sales/segments with the columns we're interested in, so we can find out the names of the salespeople\n",
    "# Including 'sales' again because a merge needs a column 'in common' between the two being merged\n",
    "topFiveSalesPeoplePerSegment = pd.merge(topFiveSalesPerSegment, df[['Sales', 'Segment', 'Salesperson']], on=\"Sales\")\n",
    "topFiveSalesPeoplePerSegment"
   ]
  },
  {
   "cell_type": "markdown",
   "source": [
    "# 3.\tCreate a calculated column called ‘Price’ (=Sales / Quantity) for each product."
   ],
   "metadata": {
    "collapsed": false
   }
  },
  {
   "cell_type": "code",
   "execution_count": 171,
   "id": "7a54c9b3",
   "metadata": {},
   "outputs": [
    {
     "data": {
      "text/plain": "         Order ID  Order Date   Ship Date       Ship Mode Customer ID  \\\n0  CA-2016-152156  08/11/2016  11/11/2016    Second Class    CG-12520   \n1  CA-2016-152156  08/11/2016  11/11/2016    Second Class    CG-12520   \n2  CA-2016-138688  12/06/2016  16/06/2016    Second Class    DV-13045   \n3  US-2015-108966  11/10/2015  18/10/2015  Standard Class    SO-20335   \n\n       Salesperson    Segment        Country             City       State  \\\n0      Claire Gute   Consumer  United States        Henderson    Kentucky   \n1      Claire Gute   Consumer  United States        Henderson    Kentucky   \n2  Darrin Van Huff  Corporate  United States      Los Angeles  California   \n3   Sean O'Donnell   Consumer  United States  Fort Lauderdale     Florida   \n\n   ...  Region       Product ID         Category Sub-Category  \\\n0  ...   South  FUR-BO-10001798        Furniture    Bookcases   \n1  ...   South  FUR-CH-10000454        Furniture       Chairs   \n2  ...    West  OFF-LA-10000240  Office Supplies       Labels   \n3  ...   South  FUR-TA-10000577        Furniture       Tables   \n\n                                        Product Name     Sales  Quantity  \\\n0                  Bush Somerset Collection Bookcase  261.9600         2   \n1  Hon Deluxe Fabric Upholstered Stacking Chairs,...  731.9400         3   \n2  Self-Adhesive Address Labels for Typewriters b...   14.6200         2   \n3      Bretford CR4500 Series Slim Rectangular Table  957.5775         5   \n\n   Discount    Profit     Price  \n0      0.00   41.9136  130.9800  \n1      0.00  219.5820  243.9800  \n2      0.00    6.8714    7.3100  \n3      0.45 -383.0310  191.5155  \n\n[4 rows x 21 columns]",
      "text/html": "<div>\n<style scoped>\n    .dataframe tbody tr th:only-of-type {\n        vertical-align: middle;\n    }\n\n    .dataframe tbody tr th {\n        vertical-align: top;\n    }\n\n    .dataframe thead th {\n        text-align: right;\n    }\n</style>\n<table border=\"1\" class=\"dataframe\">\n  <thead>\n    <tr style=\"text-align: right;\">\n      <th></th>\n      <th>Order ID</th>\n      <th>Order Date</th>\n      <th>Ship Date</th>\n      <th>Ship Mode</th>\n      <th>Customer ID</th>\n      <th>Salesperson</th>\n      <th>Segment</th>\n      <th>Country</th>\n      <th>City</th>\n      <th>State</th>\n      <th>...</th>\n      <th>Region</th>\n      <th>Product ID</th>\n      <th>Category</th>\n      <th>Sub-Category</th>\n      <th>Product Name</th>\n      <th>Sales</th>\n      <th>Quantity</th>\n      <th>Discount</th>\n      <th>Profit</th>\n      <th>Price</th>\n    </tr>\n  </thead>\n  <tbody>\n    <tr>\n      <th>0</th>\n      <td>CA-2016-152156</td>\n      <td>08/11/2016</td>\n      <td>11/11/2016</td>\n      <td>Second Class</td>\n      <td>CG-12520</td>\n      <td>Claire Gute</td>\n      <td>Consumer</td>\n      <td>United States</td>\n      <td>Henderson</td>\n      <td>Kentucky</td>\n      <td>...</td>\n      <td>South</td>\n      <td>FUR-BO-10001798</td>\n      <td>Furniture</td>\n      <td>Bookcases</td>\n      <td>Bush Somerset Collection Bookcase</td>\n      <td>261.9600</td>\n      <td>2</td>\n      <td>0.00</td>\n      <td>41.9136</td>\n      <td>130.9800</td>\n    </tr>\n    <tr>\n      <th>1</th>\n      <td>CA-2016-152156</td>\n      <td>08/11/2016</td>\n      <td>11/11/2016</td>\n      <td>Second Class</td>\n      <td>CG-12520</td>\n      <td>Claire Gute</td>\n      <td>Consumer</td>\n      <td>United States</td>\n      <td>Henderson</td>\n      <td>Kentucky</td>\n      <td>...</td>\n      <td>South</td>\n      <td>FUR-CH-10000454</td>\n      <td>Furniture</td>\n      <td>Chairs</td>\n      <td>Hon Deluxe Fabric Upholstered Stacking Chairs,...</td>\n      <td>731.9400</td>\n      <td>3</td>\n      <td>0.00</td>\n      <td>219.5820</td>\n      <td>243.9800</td>\n    </tr>\n    <tr>\n      <th>2</th>\n      <td>CA-2016-138688</td>\n      <td>12/06/2016</td>\n      <td>16/06/2016</td>\n      <td>Second Class</td>\n      <td>DV-13045</td>\n      <td>Darrin Van Huff</td>\n      <td>Corporate</td>\n      <td>United States</td>\n      <td>Los Angeles</td>\n      <td>California</td>\n      <td>...</td>\n      <td>West</td>\n      <td>OFF-LA-10000240</td>\n      <td>Office Supplies</td>\n      <td>Labels</td>\n      <td>Self-Adhesive Address Labels for Typewriters b...</td>\n      <td>14.6200</td>\n      <td>2</td>\n      <td>0.00</td>\n      <td>6.8714</td>\n      <td>7.3100</td>\n    </tr>\n    <tr>\n      <th>3</th>\n      <td>US-2015-108966</td>\n      <td>11/10/2015</td>\n      <td>18/10/2015</td>\n      <td>Standard Class</td>\n      <td>SO-20335</td>\n      <td>Sean O'Donnell</td>\n      <td>Consumer</td>\n      <td>United States</td>\n      <td>Fort Lauderdale</td>\n      <td>Florida</td>\n      <td>...</td>\n      <td>South</td>\n      <td>FUR-TA-10000577</td>\n      <td>Furniture</td>\n      <td>Tables</td>\n      <td>Bretford CR4500 Series Slim Rectangular Table</td>\n      <td>957.5775</td>\n      <td>5</td>\n      <td>0.45</td>\n      <td>-383.0310</td>\n      <td>191.5155</td>\n    </tr>\n  </tbody>\n</table>\n<p>4 rows × 21 columns</p>\n</div>"
     },
     "execution_count": 171,
     "metadata": {},
     "output_type": "execute_result"
    }
   ],
   "source": [
    "# We can add a column to a pandas dataset like so\n",
    "df['Price'] = df.Sales / df.Quantity\n",
    "\n",
    "df.head(4)"
   ]
  },
  {
   "cell_type": "markdown",
   "source": [
    "# 4.\tShow the sum of ‘Profit’ for each region (highest first) (use .agg method)."
   ],
   "metadata": {
    "collapsed": false
   }
  },
  {
   "cell_type": "code",
   "execution_count": 172,
   "id": "79ff6cc1",
   "metadata": {},
   "outputs": [
    {
     "data": {
      "text/plain": "                 sum\nRegion              \nWest     108418.4489\nEast      91522.7800\nSouth     46749.4303\nCentral   39700.1417",
      "text/html": "<div>\n<style scoped>\n    .dataframe tbody tr th:only-of-type {\n        vertical-align: middle;\n    }\n\n    .dataframe tbody tr th {\n        vertical-align: top;\n    }\n\n    .dataframe thead th {\n        text-align: right;\n    }\n</style>\n<table border=\"1\" class=\"dataframe\">\n  <thead>\n    <tr style=\"text-align: right;\">\n      <th></th>\n      <th>sum</th>\n    </tr>\n    <tr>\n      <th>Region</th>\n      <th></th>\n    </tr>\n  </thead>\n  <tbody>\n    <tr>\n      <th>West</th>\n      <td>108418.4489</td>\n    </tr>\n    <tr>\n      <th>East</th>\n      <td>91522.7800</td>\n    </tr>\n    <tr>\n      <th>South</th>\n      <td>46749.4303</td>\n    </tr>\n    <tr>\n      <th>Central</th>\n      <td>39700.1417</td>\n    </tr>\n  </tbody>\n</table>\n</div>"
     },
     "execution_count": 172,
     "metadata": {},
     "output_type": "execute_result"
    }
   ],
   "source": [
    "# agg lets us apply a method on each element in a series individually, so we get the sum of each region's profits\n",
    "# using groupby, allows us to group a dataframe based on some column\n",
    "profitRegion = df.Profit.groupby(df['Region']).agg(['sum']).sort_values('sum', ascending=False)\n",
    "profitRegion"
   ]
  },
  {
   "cell_type": "markdown",
   "source": [
    "# 5.\tUsing groupby, display the top 3 sales for each category and subcategory."
   ],
   "metadata": {
    "collapsed": false
   }
  },
  {
   "cell_type": "markdown",
   "source": [],
   "metadata": {
    "collapsed": false
   }
  },
  {
   "cell_type": "code",
   "execution_count": 173,
   "id": "9e8f6a36",
   "metadata": {},
   "outputs": [
    {
     "data": {
      "text/plain": "Category         Sub-Category      \nFurniture        Bookcases     9741     4404.900\n                               5917     4228.704\n                               6535     4007.840\n                 Chairs        7243     4416.174\n                               9425     3785.292\n                               5170     3504.900\n                 Furnishings   7387     1336.440\n                               7458     1196.860\n                               638      1049.200\n                 Tables        9639     4297.644\n                               1246     3610.848\n                               9857     3393.680\nOffice Supplies  Appliances    7579     2625.120\n                               7937     2518.290\n                               3443     2504.740\n                 Art           67       1113.024\n                               1510      385.600\n                               4851      303.840\n                 Binders       9039     9892.740\n                               4098     9449.950\n                               509      6354.950\n                 Envelopes     2516      604.656\n                               6559      419.900\n                               253       361.920\n                 Fasteners     8006       93.360\n                               1108       58.368\n                               3649       55.104\n                 Labels        1621      786.480\n                               6309      629.184\n                               6922      491.550\n                 Paper         3262      733.950\n                               3399      629.100\n                               4923      629.100\n                 Storage       3070     2934.330\n                               3986     2591.560\n                               6467     2079.400\n                 Supplies      2505     8187.650\n                               5884     4912.590\n                               1803     4663.736\nTechnology       Accessories   251      3347.370\n                               1001     2309.650\n                               4881     2249.910\n                 Copiers       6826    17499.950\n                               8153    13999.960\n                               2623    11199.968\n                 Machines      2697    22638.480\n                               4277     9099.930\n                               8488     8749.950\n                 Phones        2492     4548.810\n                               4297     4367.896\n                               6014     4158.912\nName: Sales, dtype: float64"
     },
     "execution_count": 173,
     "metadata": {},
     "output_type": "execute_result"
    }
   ],
   "source": [
    "# Group by category and sub-category, pull sales from this and select only the 3 largest sales values\n",
    "df.groupby(['Category','Sub-Category'])['Sales'].nlargest(3)"
   ]
  },
  {
   "cell_type": "markdown",
   "source": [
    "# 6.\tUsing a pivot table, show the sum and mean of ‘Sales’ in terms of Profit and Category and Shipped."
   ],
   "metadata": {
    "collapsed": false
   }
  },
  {
   "cell_type": "code",
   "execution_count": 174,
   "id": "d06780ff",
   "metadata": {},
   "outputs": [
    {
     "data": {
      "text/plain": "                                               mean           sum\n                                              Sales         Sales\nProfit     Category        Ship Date                             \n-6599.978  Technology      02/12/2016   4499.985000  4.499985e+03\n-3839.9904 Technology      04/11/2017   7999.980000  7.999980e+03\n-3701.8928 Office Supplies 30/07/2014   2177.584000  2.177584e+03\n-3399.98   Technology      23/04/2017   2549.985000  2.549985e+03\n-2929.4845 Office Supplies 13/12/2017   1889.990000  1.889990e+03\n...                                             ...           ...\n4946.37    Office Supplies 21/12/2016   9892.740000  9.892740e+03\n5039.9856  Technology      22/11/2017  10499.970000  1.049997e+04\n6719.9808  Technology      25/03/2017  13999.960000  1.399996e+04\n8399.976   Technology      09/10/2016  17499.950000  1.749995e+04\nAll                                      229.879706  2.297188e+06\n\n[9990 rows x 2 columns]",
      "text/html": "<div>\n<style scoped>\n    .dataframe tbody tr th:only-of-type {\n        vertical-align: middle;\n    }\n\n    .dataframe tbody tr th {\n        vertical-align: top;\n    }\n\n    .dataframe thead tr th {\n        text-align: left;\n    }\n\n    .dataframe thead tr:last-of-type th {\n        text-align: right;\n    }\n</style>\n<table border=\"1\" class=\"dataframe\">\n  <thead>\n    <tr>\n      <th></th>\n      <th></th>\n      <th></th>\n      <th>mean</th>\n      <th>sum</th>\n    </tr>\n    <tr>\n      <th></th>\n      <th></th>\n      <th></th>\n      <th>Sales</th>\n      <th>Sales</th>\n    </tr>\n    <tr>\n      <th>Profit</th>\n      <th>Category</th>\n      <th>Ship Date</th>\n      <th></th>\n      <th></th>\n    </tr>\n  </thead>\n  <tbody>\n    <tr>\n      <th>-6599.978</th>\n      <th>Technology</th>\n      <th>02/12/2016</th>\n      <td>4499.985000</td>\n      <td>4.499985e+03</td>\n    </tr>\n    <tr>\n      <th>-3839.9904</th>\n      <th>Technology</th>\n      <th>04/11/2017</th>\n      <td>7999.980000</td>\n      <td>7.999980e+03</td>\n    </tr>\n    <tr>\n      <th>-3701.8928</th>\n      <th>Office Supplies</th>\n      <th>30/07/2014</th>\n      <td>2177.584000</td>\n      <td>2.177584e+03</td>\n    </tr>\n    <tr>\n      <th>-3399.98</th>\n      <th>Technology</th>\n      <th>23/04/2017</th>\n      <td>2549.985000</td>\n      <td>2.549985e+03</td>\n    </tr>\n    <tr>\n      <th>-2929.4845</th>\n      <th>Office Supplies</th>\n      <th>13/12/2017</th>\n      <td>1889.990000</td>\n      <td>1.889990e+03</td>\n    </tr>\n    <tr>\n      <th>...</th>\n      <th>...</th>\n      <th>...</th>\n      <td>...</td>\n      <td>...</td>\n    </tr>\n    <tr>\n      <th>4946.37</th>\n      <th>Office Supplies</th>\n      <th>21/12/2016</th>\n      <td>9892.740000</td>\n      <td>9.892740e+03</td>\n    </tr>\n    <tr>\n      <th>5039.9856</th>\n      <th>Technology</th>\n      <th>22/11/2017</th>\n      <td>10499.970000</td>\n      <td>1.049997e+04</td>\n    </tr>\n    <tr>\n      <th>6719.9808</th>\n      <th>Technology</th>\n      <th>25/03/2017</th>\n      <td>13999.960000</td>\n      <td>1.399996e+04</td>\n    </tr>\n    <tr>\n      <th>8399.976</th>\n      <th>Technology</th>\n      <th>09/10/2016</th>\n      <td>17499.950000</td>\n      <td>1.749995e+04</td>\n    </tr>\n    <tr>\n      <th>All</th>\n      <th></th>\n      <th></th>\n      <td>229.879706</td>\n      <td>2.297188e+06</td>\n    </tr>\n  </tbody>\n</table>\n<p>9990 rows × 2 columns</p>\n</div>"
     },
     "execution_count": 174,
     "metadata": {},
     "output_type": "execute_result"
    }
   ],
   "source": [
    "# A pivot table is useful for summarising large datasets\n",
    "# It's like a more customisable version of groupby\n",
    "# Selecting the columns we're interested in as index, populating values with sales totals and running both mean and sum agg functions on them\n",
    "\n",
    "# Here the mean and sum are the same, as the table only involves one numerical column...\n",
    "table = df.pivot_table(\n",
    "    values=['Sales'],\n",
    "    index=['Profit', 'Category', 'Ship Date'],\n",
    "    aggfunc=['mean', 'sum'],\n",
    "    margins=True)\n",
    "\n",
    "table"
   ]
  },
  {
   "cell_type": "markdown",
   "source": [
    "# 7.\tFind the Technology Accessories sold in New York City worth more than $300 and sold by Nathan Mautz in 2014."
   ],
   "metadata": {
    "collapsed": false
   }
  },
  {
   "cell_type": "code",
   "execution_count": 175,
   "id": "5cd2296b",
   "metadata": {},
   "outputs": [
    {
     "data": {
      "text/plain": "           Order ID  Order Date   Ship Date       Ship Mode Customer ID  \\\n318  CA-2014-164973  04/11/2014  09/11/2014  Standard Class    NM-18445   \n\n      Salesperson      Segment        Country           City     State  ...  \\\n318  Nathan Mautz  Home Office  United States  New York City  New York  ...   \n\n     Region       Product ID    Category Sub-Category  \\\n318    East  TEC-MA-10002927  Technology     Machines   \n\n                                          Product Name    Sales  Quantity  \\\n318  Canon imageCLASS MF7460 Monochrome Digital Las...  3991.98         2   \n\n     Discount   Profit    Price  \n318       0.0  1995.99  1995.99  \n\n[1 rows x 21 columns]",
      "text/html": "<div>\n<style scoped>\n    .dataframe tbody tr th:only-of-type {\n        vertical-align: middle;\n    }\n\n    .dataframe tbody tr th {\n        vertical-align: top;\n    }\n\n    .dataframe thead th {\n        text-align: right;\n    }\n</style>\n<table border=\"1\" class=\"dataframe\">\n  <thead>\n    <tr style=\"text-align: right;\">\n      <th></th>\n      <th>Order ID</th>\n      <th>Order Date</th>\n      <th>Ship Date</th>\n      <th>Ship Mode</th>\n      <th>Customer ID</th>\n      <th>Salesperson</th>\n      <th>Segment</th>\n      <th>Country</th>\n      <th>City</th>\n      <th>State</th>\n      <th>...</th>\n      <th>Region</th>\n      <th>Product ID</th>\n      <th>Category</th>\n      <th>Sub-Category</th>\n      <th>Product Name</th>\n      <th>Sales</th>\n      <th>Quantity</th>\n      <th>Discount</th>\n      <th>Profit</th>\n      <th>Price</th>\n    </tr>\n  </thead>\n  <tbody>\n    <tr>\n      <th>318</th>\n      <td>CA-2014-164973</td>\n      <td>04/11/2014</td>\n      <td>09/11/2014</td>\n      <td>Standard Class</td>\n      <td>NM-18445</td>\n      <td>Nathan Mautz</td>\n      <td>Home Office</td>\n      <td>United States</td>\n      <td>New York City</td>\n      <td>New York</td>\n      <td>...</td>\n      <td>East</td>\n      <td>TEC-MA-10002927</td>\n      <td>Technology</td>\n      <td>Machines</td>\n      <td>Canon imageCLASS MF7460 Monochrome Digital Las...</td>\n      <td>3991.98</td>\n      <td>2</td>\n      <td>0.0</td>\n      <td>1995.99</td>\n      <td>1995.99</td>\n    </tr>\n  </tbody>\n</table>\n<p>1 rows × 21 columns</p>\n</div>"
     },
     "execution_count": 175,
     "metadata": {},
     "output_type": "execute_result"
    }
   ],
   "source": [
    "# We can use loc to access a particular row in a dataframe by providing index and column values\n",
    "technologyNY = df.loc[(df['Category'] == 'Technology') & (df['City'] == 'New York City') & (df['Salesperson'] == 'Nathan Mautz')\\\n",
    "                      & (df['Price'] > 300)]\n",
    "technologyNY.head(5)"
   ]
  },
  {
   "cell_type": "markdown",
   "source": [
    "# 8.\tFind all the products with ID #TEC-PH-10003273 in the ‘Home office’ segment that were shipped ‘Second class’ in 2014."
   ],
   "metadata": {
    "collapsed": false
   }
  },
  {
   "cell_type": "code",
   "execution_count": 176,
   "id": "80d096ba",
   "metadata": {},
   "outputs": [
    {
     "data": {
      "text/plain": "           Order ID  Order Date   Ship Date     Ship Mode Customer ID  \\\n182  CA-2014-158274  19/11/2014  24/11/2014  Second Class    RM-19675   \n\n       Salesperson      Segment        Country    City      State  ...  \\\n182  Robert Marley  Home Office  United States  Monroe  Louisiana  ...   \n\n     Region       Product ID    Category Sub-Category  Product Name   Sales  \\\n182   South  TEC-PH-10003273  Technology       Phones  AT&T TR1909W  503.96   \n\n     Quantity  Discount    Profit   Price  \n182         4       0.0  131.0296  125.99  \n\n[1 rows x 21 columns]",
      "text/html": "<div>\n<style scoped>\n    .dataframe tbody tr th:only-of-type {\n        vertical-align: middle;\n    }\n\n    .dataframe tbody tr th {\n        vertical-align: top;\n    }\n\n    .dataframe thead th {\n        text-align: right;\n    }\n</style>\n<table border=\"1\" class=\"dataframe\">\n  <thead>\n    <tr style=\"text-align: right;\">\n      <th></th>\n      <th>Order ID</th>\n      <th>Order Date</th>\n      <th>Ship Date</th>\n      <th>Ship Mode</th>\n      <th>Customer ID</th>\n      <th>Salesperson</th>\n      <th>Segment</th>\n      <th>Country</th>\n      <th>City</th>\n      <th>State</th>\n      <th>...</th>\n      <th>Region</th>\n      <th>Product ID</th>\n      <th>Category</th>\n      <th>Sub-Category</th>\n      <th>Product Name</th>\n      <th>Sales</th>\n      <th>Quantity</th>\n      <th>Discount</th>\n      <th>Profit</th>\n      <th>Price</th>\n    </tr>\n  </thead>\n  <tbody>\n    <tr>\n      <th>182</th>\n      <td>CA-2014-158274</td>\n      <td>19/11/2014</td>\n      <td>24/11/2014</td>\n      <td>Second Class</td>\n      <td>RM-19675</td>\n      <td>Robert Marley</td>\n      <td>Home Office</td>\n      <td>United States</td>\n      <td>Monroe</td>\n      <td>Louisiana</td>\n      <td>...</td>\n      <td>South</td>\n      <td>TEC-PH-10003273</td>\n      <td>Technology</td>\n      <td>Phones</td>\n      <td>AT&amp;T TR1909W</td>\n      <td>503.96</td>\n      <td>4</td>\n      <td>0.0</td>\n      <td>131.0296</td>\n      <td>125.99</td>\n    </tr>\n  </tbody>\n</table>\n<p>1 rows × 21 columns</p>\n</div>"
     },
     "execution_count": 176,
     "metadata": {},
     "output_type": "execute_result"
    }
   ],
   "source": [
    "# Using 'in' operator to find dates in 2014\n",
    "df2 = df.loc[(df['Product ID'] == 'TEC-PH-10003273') & (df['Segment'] == 'Home Office') & (df['Ship Mode'] == 'Second Class')\\\n",
    "            & (2014 in df['Ship Date'])]\n",
    "\n",
    "df2"
   ]
  },
  {
   "cell_type": "markdown",
   "source": [
    "# 9.\tAny sales visualisation (graph) that you think would help the MegaStore management to interpret their sales data better."
   ],
   "metadata": {
    "collapsed": false
   }
  },
  {
   "cell_type": "code",
   "execution_count": 186,
   "id": "b1f8d475",
   "metadata": {},
   "outputs": [
    {
     "data": {
      "text/plain": "[<matplotlib.lines.Line2D at 0x25a6f5f9be0>]"
     },
     "execution_count": 186,
     "metadata": {},
     "output_type": "execute_result"
    },
    {
     "data": {
      "text/plain": "<Figure size 1080x1080 with 0 Axes>"
     },
     "metadata": {},
     "output_type": "display_data"
    },
    {
     "data": {
      "text/plain": "<Figure size 1080x1080 with 1 Axes>",
      "image/png": "[encoded data removed]"
     },
     "metadata": {
      "needs_background": "light"
     },
     "output_type": "display_data"
    }
   ],
   "source": [
    "# Top 5 sales values by state\n",
    "df_product = df[['Sales','State']].nlargest(5, 'Sales')\n",
    "\n",
    "# mec sets the colour of the marker's outline/edge\n",
    "plt.figure(figsize=(15,15))\n",
    "\n",
    "f = plt.figure()\n",
    "# Loc dictates position of title\n",
    "plt.title('Total Sales by State', fontsize=20, loc='left')\n",
    "plt.xlabel('State', fontsize=15)\n",
    "plt.ylabel('Total Sales', fontsize=15)\n",
    "# Showing only horizontal grid lines\n",
    "plt.grid(axis = 'x')\n",
    "\n",
    "f.set_figwidth(15)\n",
    "f.set_figheight(15)\n",
    "\n",
    "# Sum and sort our sales values\n",
    "topSalesByState = df_product.groupby(['State']).sum().sort_values('Sales', ascending=True)\n",
    "plt.plot(topSalesByState, marker='o', ms= 20, mec='r', linestyle='dashed')"
   ]
  },
  {
   "cell_type": "markdown",
   "source": [
    "# The visualisation suggests that sales are highest in Florida, indicating the business would benefit from increased investment in its Florida branch. Conversely, sales in Delaware are very low, maybe incurring unnecessary costs. It could benefit the business to close down their Delaware branch."
   ],
   "metadata": {
    "collapsed": false
   }
  }
 ],
 "metadata": {
  "kernelspec": {
   "display_name": "Python 3 (ipykernel)",
   "language": "python",
   "name": "python3"
  },
  "language_info": {
   "codemirror_mode": {
    "name": "ipython",
    "version": 3
   },
   "file_extension": ".py",
   "mimetype": "text/x-python",
   "name": "python",
   "nbconvert_exporter": "python",
   "pygments_lexer": "ipython3",
   "version": "3.9.7"
  }
 },
 "nbformat": 4,
 "nbformat_minor": 5
}

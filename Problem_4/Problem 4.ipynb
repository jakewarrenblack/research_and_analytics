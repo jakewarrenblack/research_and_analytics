{
 "cells": [
  {
   "cell_type": "code",
   "execution_count": 57,
   "metadata": {
    "collapsed": true
   },
   "outputs": [
    {
     "name": "stdout",
     "output_type": "stream",
     "text": [
      "Requirement already satisfied: mlxtend in c:\\users\\jake\\anaconda3\\lib\\site-packages (0.21.0)\n",
      "Requirement already satisfied: scikit-learn>=1.0.2 in c:\\users\\jake\\anaconda3\\lib\\site-packages (from mlxtend) (1.1.3)\n",
      "Requirement already satisfied: matplotlib>=3.0.0 in c:\\users\\jake\\anaconda3\\lib\\site-packages (from mlxtend) (3.4.3)\n",
      "Requirement already satisfied: scipy>=1.2.1 in c:\\users\\jake\\anaconda3\\lib\\site-packages (from mlxtend) (1.7.1)\n",
      "Requirement already satisfied: setuptools in c:\\users\\jake\\anaconda3\\lib\\site-packages (from mlxtend) (58.0.4)\n",
      "Requirement already satisfied: joblib>=0.13.2 in c:\\users\\jake\\anaconda3\\lib\\site-packages (from mlxtend) (1.1.0)\n",
      "Requirement already satisfied: numpy>=1.16.2 in c:\\users\\jake\\anaconda3\\lib\\site-packages (from mlxtend) (1.20.3)\n",
      "Requirement already satisfied: pandas>=0.24.2 in c:\\users\\jake\\anaconda3\\lib\\site-packages (from mlxtend) (1.3.4)\n",
      "Requirement already satisfied: pyparsing>=2.2.1 in c:\\users\\jake\\anaconda3\\lib\\site-packages (from matplotlib>=3.0.0->mlxtend) (3.0.4)\n",
      "Requirement already satisfied: kiwisolver>=1.0.1 in c:\\users\\jake\\anaconda3\\lib\\site-packages (from matplotlib>=3.0.0->mlxtend) (1.3.1)\n",
      "Requirement already satisfied: cycler>=0.10 in c:\\users\\jake\\anaconda3\\lib\\site-packages (from matplotlib>=3.0.0->mlxtend) (0.10.0)\n",
      "Requirement already satisfied: python-dateutil>=2.7 in c:\\users\\jake\\anaconda3\\lib\\site-packages (from matplotlib>=3.0.0->mlxtend) (2.8.2)\n",
      "Requirement already satisfied: pillow>=6.2.0 in c:\\users\\jake\\anaconda3\\lib\\site-packages (from matplotlib>=3.0.0->mlxtend) (8.4.0)\n",
      "Requirement already satisfied: six in c:\\users\\jake\\anaconda3\\lib\\site-packages (from cycler>=0.10->matplotlib>=3.0.0->mlxtend) (1.16.0)\n",
      "Requirement already satisfied: pytz>=2017.3 in c:\\users\\jake\\anaconda3\\lib\\site-packages (from pandas>=0.24.2->mlxtend) (2021.3)\n",
      "Requirement already satisfied: threadpoolctl>=2.0.0 in c:\\users\\jake\\anaconda3\\lib\\site-packages (from scikit-learn>=1.0.2->mlxtend) (2.2.0)\n"
     ]
    }
   ],
   "source": [
    "!pip install mlxtend\n",
    "import pandas as pd\n",
    "from mlxtend.frequent_patterns import apriori\n",
    "from mlxtend.frequent_patterns import association_rules"
   ]
  },
  {
   "cell_type": "code",
   "execution_count": 58,
   "outputs": [
    {
     "data": {
      "text/plain": "   Stream ID              1              2            3                 4    5\n0      10001      Cobra Kai          Lupin   12 Monkeys          Sherlock  NaN\n1      10002           Lost      Jack Ryan    The Flash   Game of thrones  NaN\n2      10003  Sex Education      Dr. House      Kingdom  The Walking Dead  NaN\n3      10004          Ozark  Sex Education  Constantine          Preacher  NaN\n4      10005         Naruto            NaN          NaN               NaN  NaN",
      "text/html": "<div>\n<style scoped>\n    .dataframe tbody tr th:only-of-type {\n        vertical-align: middle;\n    }\n\n    .dataframe tbody tr th {\n        vertical-align: top;\n    }\n\n    .dataframe thead th {\n        text-align: right;\n    }\n</style>\n<table border=\"1\" class=\"dataframe\">\n  <thead>\n    <tr style=\"text-align: right;\">\n      <th></th>\n      <th>Stream ID</th>\n      <th>1</th>\n      <th>2</th>\n      <th>3</th>\n      <th>4</th>\n      <th>5</th>\n    </tr>\n  </thead>\n  <tbody>\n    <tr>\n      <th>0</th>\n      <td>10001</td>\n      <td>Cobra Kai</td>\n      <td>Lupin</td>\n      <td>12 Monkeys</td>\n      <td>Sherlock</td>\n      <td>NaN</td>\n    </tr>\n    <tr>\n      <th>1</th>\n      <td>10002</td>\n      <td>Lost</td>\n      <td>Jack Ryan</td>\n      <td>The Flash</td>\n      <td>Game of thrones</td>\n      <td>NaN</td>\n    </tr>\n    <tr>\n      <th>2</th>\n      <td>10003</td>\n      <td>Sex Education</td>\n      <td>Dr. House</td>\n      <td>Kingdom</td>\n      <td>The Walking Dead</td>\n      <td>NaN</td>\n    </tr>\n    <tr>\n      <th>3</th>\n      <td>10004</td>\n      <td>Ozark</td>\n      <td>Sex Education</td>\n      <td>Constantine</td>\n      <td>Preacher</td>\n      <td>NaN</td>\n    </tr>\n    <tr>\n      <th>4</th>\n      <td>10005</td>\n      <td>Naruto</td>\n      <td>NaN</td>\n      <td>NaN</td>\n      <td>NaN</td>\n      <td>NaN</td>\n    </tr>\n  </tbody>\n</table>\n</div>"
     },
     "execution_count": 58,
     "metadata": {},
     "output_type": "execute_result"
    }
   ],
   "source": [
    "df = pd.read_csv('stream_viewing.csv')\n",
    "df.head(5)"
   ],
   "metadata": {
    "collapsed": false
   }
  },
  {
   "cell_type": "markdown",
   "source": [
    "# 1. What were the 10 most popular shows (based on 'support')?"
   ],
   "metadata": {
    "collapsed": false
   }
  },
  {
   "cell_type": "code",
   "execution_count": 59,
   "outputs": [
    {
     "data": {
      "text/plain": "   Stream ID  1_12 Monkeys  1_Absentia  1_Alice in Borderland  \\\n0      10001             0           0                      0   \n\n   1_Altered Carbon  1_Archer  1_Arrow  1_Atypical  1_Banshee  \\\n0                 0         0        0           0          0   \n\n   1_Berlin Station  ...  4_The Witcher  4_Travellers  4_Two and a half men  \\\n0                 0  ...              0             0                     0   \n\n   4_Upload  4_Vikings  4_Westworld  4_White Collar  4_X-Files  \\\n0         0          0            0               0          0   \n\n   5_Better Call Saul  5_Peaky Blinders  \n0                   0                 0  \n\n[1 rows x 351 columns]",
      "text/html": "<div>\n<style scoped>\n    .dataframe tbody tr th:only-of-type {\n        vertical-align: middle;\n    }\n\n    .dataframe tbody tr th {\n        vertical-align: top;\n    }\n\n    .dataframe thead th {\n        text-align: right;\n    }\n</style>\n<table border=\"1\" class=\"dataframe\">\n  <thead>\n    <tr style=\"text-align: right;\">\n      <th></th>\n      <th>Stream ID</th>\n      <th>1_12 Monkeys</th>\n      <th>1_Absentia</th>\n      <th>1_Alice in Borderland</th>\n      <th>1_Altered Carbon</th>\n      <th>1_Archer</th>\n      <th>1_Arrow</th>\n      <th>1_Atypical</th>\n      <th>1_Banshee</th>\n      <th>1_Berlin Station</th>\n      <th>...</th>\n      <th>4_The Witcher</th>\n      <th>4_Travellers</th>\n      <th>4_Two and a half men</th>\n      <th>4_Upload</th>\n      <th>4_Vikings</th>\n      <th>4_Westworld</th>\n      <th>4_White Collar</th>\n      <th>4_X-Files</th>\n      <th>5_Better Call Saul</th>\n      <th>5_Peaky Blinders</th>\n    </tr>\n  </thead>\n  <tbody>\n    <tr>\n      <th>0</th>\n      <td>10001</td>\n      <td>0</td>\n      <td>0</td>\n      <td>0</td>\n      <td>0</td>\n      <td>0</td>\n      <td>0</td>\n      <td>0</td>\n      <td>0</td>\n      <td>0</td>\n      <td>...</td>\n      <td>0</td>\n      <td>0</td>\n      <td>0</td>\n      <td>0</td>\n      <td>0</td>\n      <td>0</td>\n      <td>0</td>\n      <td>0</td>\n      <td>0</td>\n      <td>0</td>\n    </tr>\n  </tbody>\n</table>\n<p>1 rows × 351 columns</p>\n</div>"
     },
     "execution_count": 59,
     "metadata": {},
     "output_type": "execute_result"
    }
   ],
   "source": [
    "#Filling the table with dummy values\n",
    "# turning our categorical data into banary representations\n",
    "shows = pd.get_dummies(df)\n",
    "shows.head(1)"
   ],
   "metadata": {
    "collapsed": false
   }
  },
  {
   "cell_type": "code",
   "execution_count": 60,
   "outputs": [
    {
     "data": {
      "text/plain": "   1_12 Monkeys  1_Absentia  1_Alice in Borderland  1_Altered Carbon  \\\n0             0           0                      0                 0   \n1             0           0                      0                 0   \n2             0           0                      0                 0   \n\n   1_Archer  1_Arrow  1_Atypical  1_Banshee  1_Berlin Station  \\\n0         0        0           0          0                 0   \n1         0        0           0          0                 0   \n2         0        0           0          0                 0   \n\n   1_Better Call Saul  ...  4_The Witcher  4_Travellers  4_Two and a half men  \\\n0                   0  ...              0             0                     0   \n1                   0  ...              0             0                     0   \n2                   0  ...              0             0                     0   \n\n   4_Upload  4_Vikings  4_Westworld  4_White Collar  4_X-Files  \\\n0         0          0            0               0          0   \n1         0          0            0               0          0   \n2         0          0            0               0          0   \n\n   5_Better Call Saul  5_Peaky Blinders  \n0                   0                 0  \n1                   0                 0  \n2                   0                 0  \n\n[3 rows x 350 columns]",
      "text/html": "<div>\n<style scoped>\n    .dataframe tbody tr th:only-of-type {\n        vertical-align: middle;\n    }\n\n    .dataframe tbody tr th {\n        vertical-align: top;\n    }\n\n    .dataframe thead th {\n        text-align: right;\n    }\n</style>\n<table border=\"1\" class=\"dataframe\">\n  <thead>\n    <tr style=\"text-align: right;\">\n      <th></th>\n      <th>1_12 Monkeys</th>\n      <th>1_Absentia</th>\n      <th>1_Alice in Borderland</th>\n      <th>1_Altered Carbon</th>\n      <th>1_Archer</th>\n      <th>1_Arrow</th>\n      <th>1_Atypical</th>\n      <th>1_Banshee</th>\n      <th>1_Berlin Station</th>\n      <th>1_Better Call Saul</th>\n      <th>...</th>\n      <th>4_The Witcher</th>\n      <th>4_Travellers</th>\n      <th>4_Two and a half men</th>\n      <th>4_Upload</th>\n      <th>4_Vikings</th>\n      <th>4_Westworld</th>\n      <th>4_White Collar</th>\n      <th>4_X-Files</th>\n      <th>5_Better Call Saul</th>\n      <th>5_Peaky Blinders</th>\n    </tr>\n  </thead>\n  <tbody>\n    <tr>\n      <th>0</th>\n      <td>0</td>\n      <td>0</td>\n      <td>0</td>\n      <td>0</td>\n      <td>0</td>\n      <td>0</td>\n      <td>0</td>\n      <td>0</td>\n      <td>0</td>\n      <td>0</td>\n      <td>...</td>\n      <td>0</td>\n      <td>0</td>\n      <td>0</td>\n      <td>0</td>\n      <td>0</td>\n      <td>0</td>\n      <td>0</td>\n      <td>0</td>\n      <td>0</td>\n      <td>0</td>\n    </tr>\n    <tr>\n      <th>1</th>\n      <td>0</td>\n      <td>0</td>\n      <td>0</td>\n      <td>0</td>\n      <td>0</td>\n      <td>0</td>\n      <td>0</td>\n      <td>0</td>\n      <td>0</td>\n      <td>0</td>\n      <td>...</td>\n      <td>0</td>\n      <td>0</td>\n      <td>0</td>\n      <td>0</td>\n      <td>0</td>\n      <td>0</td>\n      <td>0</td>\n      <td>0</td>\n      <td>0</td>\n      <td>0</td>\n    </tr>\n    <tr>\n      <th>2</th>\n      <td>0</td>\n      <td>0</td>\n      <td>0</td>\n      <td>0</td>\n      <td>0</td>\n      <td>0</td>\n      <td>0</td>\n      <td>0</td>\n      <td>0</td>\n      <td>0</td>\n      <td>...</td>\n      <td>0</td>\n      <td>0</td>\n      <td>0</td>\n      <td>0</td>\n      <td>0</td>\n      <td>0</td>\n      <td>0</td>\n      <td>0</td>\n      <td>0</td>\n      <td>0</td>\n    </tr>\n  </tbody>\n</table>\n<p>3 rows × 350 columns</p>\n</div>"
     },
     "execution_count": 60,
     "metadata": {},
     "output_type": "execute_result"
    }
   ],
   "source": [
    "# Stream ID is irrelevant to creating our show sets\n",
    "show_sets = shows.drop(\"Stream ID\", axis = 1)\n",
    "show_sets.head(3)"
   ],
   "metadata": {
    "collapsed": false
   }
  },
  {
   "cell_type": "code",
   "execution_count": 61,
   "outputs": [
    {
     "name": "stderr",
     "output_type": "stream",
     "text": [
      "C:\\Users\\Jake\\anaconda3\\lib\\site-packages\\mlxtend\\frequent_patterns\\fpcommon.py:111: DeprecationWarning: DataFrames with non-bool types result in worse computationalperformance and their support might be discontinued in the future.Please use a DataFrame with bool type\n",
      "  warnings.warn(\n"
     ]
    },
    {
     "data": {
      "text/plain": "    support itemsets\n0  0.028056      (1)\n1  0.024048      (5)\n2  0.020040      (6)\n3  0.054108     (14)\n4  0.082164     (16)",
      "text/html": "<div>\n<style scoped>\n    .dataframe tbody tr th:only-of-type {\n        vertical-align: middle;\n    }\n\n    .dataframe tbody tr th {\n        vertical-align: top;\n    }\n\n    .dataframe thead th {\n        text-align: right;\n    }\n</style>\n<table border=\"1\" class=\"dataframe\">\n  <thead>\n    <tr style=\"text-align: right;\">\n      <th></th>\n      <th>support</th>\n      <th>itemsets</th>\n    </tr>\n  </thead>\n  <tbody>\n    <tr>\n      <th>0</th>\n      <td>0.028056</td>\n      <td>(1)</td>\n    </tr>\n    <tr>\n      <th>1</th>\n      <td>0.024048</td>\n      <td>(5)</td>\n    </tr>\n    <tr>\n      <th>2</th>\n      <td>0.020040</td>\n      <td>(6)</td>\n    </tr>\n    <tr>\n      <th>3</th>\n      <td>0.054108</td>\n      <td>(14)</td>\n    </tr>\n    <tr>\n      <th>4</th>\n      <td>0.082164</td>\n      <td>(16)</td>\n    </tr>\n  </tbody>\n</table>\n</div>"
     },
     "execution_count": 61,
     "metadata": {},
     "output_type": "execute_result"
    }
   ],
   "source": [
    "# We build association rules between our shows using the Apriori algorithm, using only items with greater than 2% support (0.02) of the total show set.\n",
    "\n",
    "# the support of an association rule is the percentage of groups that contain all the items listed in the association rule.\n",
    "\n",
    "apriori(show_sets, min_support=0.02).head()"
   ],
   "metadata": {
    "collapsed": false
   }
  },
  {
   "cell_type": "code",
   "execution_count": 62,
   "outputs": [
    {
     "name": "stderr",
     "output_type": "stream",
     "text": [
      "C:\\Users\\Jake\\anaconda3\\lib\\site-packages\\mlxtend\\frequent_patterns\\fpcommon.py:111: DeprecationWarning: DataFrames with non-bool types result in worse computationalperformance and their support might be discontinued in the future.Please use a DataFrame with bool type\n",
      "  warnings.warn(\n"
     ]
    },
    {
     "data": {
      "text/plain": "     support                itemsets\n1   0.082164           (1_Daredevil)\n8   0.064128       (1_Sex Education)\n9   0.060120       (1_The Blacklist)\n0   0.054108           (1_Cobra Kai)\n13  0.054108               (2_Ozark)\n14  0.050100       (2_Sex Education)\n3   0.046092               (1_Hanna)\n17  0.044088  (2_Two and a half men)\n20  0.042084       (4_Sex Education)\n6   0.042084               (1_Ozark)\n5   0.040080         (1_Outer Banks)\n19  0.040080       (3_Sex Education)\n11  0.038076           (2_Mr. Robot)\n16  0.038076       (2_The Blacklist)\n10  0.038076        (2_Demon Slayer)\n2   0.034068        (1_Demon Slayer)\n18  0.032064               (3_Ozark)\n7   0.030060  (1_Queen of the South)\n12  0.030060         (2_Outer Banks)\n4   0.030060           (1_One Piece)\n15  0.030060     (2_Stranger Things)",
      "text/html": "<div>\n<style scoped>\n    .dataframe tbody tr th:only-of-type {\n        vertical-align: middle;\n    }\n\n    .dataframe tbody tr th {\n        vertical-align: top;\n    }\n\n    .dataframe thead th {\n        text-align: right;\n    }\n</style>\n<table border=\"1\" class=\"dataframe\">\n  <thead>\n    <tr style=\"text-align: right;\">\n      <th></th>\n      <th>support</th>\n      <th>itemsets</th>\n    </tr>\n  </thead>\n  <tbody>\n    <tr>\n      <th>1</th>\n      <td>0.082164</td>\n      <td>(1_Daredevil)</td>\n    </tr>\n    <tr>\n      <th>8</th>\n      <td>0.064128</td>\n      <td>(1_Sex Education)</td>\n    </tr>\n    <tr>\n      <th>9</th>\n      <td>0.060120</td>\n      <td>(1_The Blacklist)</td>\n    </tr>\n    <tr>\n      <th>0</th>\n      <td>0.054108</td>\n      <td>(1_Cobra Kai)</td>\n    </tr>\n    <tr>\n      <th>13</th>\n      <td>0.054108</td>\n      <td>(2_Ozark)</td>\n    </tr>\n    <tr>\n      <th>14</th>\n      <td>0.050100</td>\n      <td>(2_Sex Education)</td>\n    </tr>\n    <tr>\n      <th>3</th>\n      <td>0.046092</td>\n      <td>(1_Hanna)</td>\n    </tr>\n    <tr>\n      <th>17</th>\n      <td>0.044088</td>\n      <td>(2_Two and a half men)</td>\n    </tr>\n    <tr>\n      <th>20</th>\n      <td>0.042084</td>\n      <td>(4_Sex Education)</td>\n    </tr>\n    <tr>\n      <th>6</th>\n      <td>0.042084</td>\n      <td>(1_Ozark)</td>\n    </tr>\n    <tr>\n      <th>5</th>\n      <td>0.040080</td>\n      <td>(1_Outer Banks)</td>\n    </tr>\n    <tr>\n      <th>19</th>\n      <td>0.040080</td>\n      <td>(3_Sex Education)</td>\n    </tr>\n    <tr>\n      <th>11</th>\n      <td>0.038076</td>\n      <td>(2_Mr. Robot)</td>\n    </tr>\n    <tr>\n      <th>16</th>\n      <td>0.038076</td>\n      <td>(2_The Blacklist)</td>\n    </tr>\n    <tr>\n      <th>10</th>\n      <td>0.038076</td>\n      <td>(2_Demon Slayer)</td>\n    </tr>\n    <tr>\n      <th>2</th>\n      <td>0.034068</td>\n      <td>(1_Demon Slayer)</td>\n    </tr>\n    <tr>\n      <th>18</th>\n      <td>0.032064</td>\n      <td>(3_Ozark)</td>\n    </tr>\n    <tr>\n      <th>7</th>\n      <td>0.030060</td>\n      <td>(1_Queen of the South)</td>\n    </tr>\n    <tr>\n      <th>12</th>\n      <td>0.030060</td>\n      <td>(2_Outer Banks)</td>\n    </tr>\n    <tr>\n      <th>4</th>\n      <td>0.030060</td>\n      <td>(1_One Piece)</td>\n    </tr>\n    <tr>\n      <th>15</th>\n      <td>0.030060</td>\n      <td>(2_Stranger Things)</td>\n    </tr>\n  </tbody>\n</table>\n</div>"
     },
     "execution_count": 62,
     "metadata": {},
     "output_type": "execute_result"
    }
   ],
   "source": [
    "# Showing shows with a popularity greater than 2% in the store\n",
    "# Tail shows 5 show sets occurring with a frequency greater than 2%\n",
    "apriori(show_sets, min_support=0.03, use_colnames=True).sort_values('support', ascending=False)"
   ],
   "metadata": {
    "collapsed": false
   }
  },
  {
   "cell_type": "markdown",
   "source": [
    "# The 10 most popular shows were:\n",
    "- Daredevil\n",
    "- Sex Education\n",
    "- The Blacklist\n",
    "- Cobra Kai\n",
    "- Ozark\n",
    "- Sex Education\n",
    "- Hanna\n",
    "- Two and a half Men\n",
    "- Sex Education\n",
    "- Ozark"
   ],
   "metadata": {
    "collapsed": false
   }
  },
  {
   "cell_type": "markdown",
   "source": [
    "# 2. Display all the combinations of the 'show' sets (viewed together)"
   ],
   "metadata": {
    "collapsed": false
   }
  },
  {
   "cell_type": "code",
   "execution_count": 63,
   "outputs": [
    {
     "name": "stderr",
     "output_type": "stream",
     "text": [
      "C:\\Users\\Jake\\anaconda3\\lib\\site-packages\\mlxtend\\frequent_patterns\\fpcommon.py:111: DeprecationWarning: DataFrames with non-bool types result in worse computationalperformance and their support might be discontinued in the future.Please use a DataFrame with bool type\n",
      "  warnings.warn(\n"
     ]
    },
    {
     "data": {
      "text/plain": "       support                                           itemsets  length\n2718  0.006012               (2_Mr. Robot, 3_Succession, 4_Ozark)       3\n1914  0.006012     (1_Cobra Kai, 2_The Blacklist, 3_Demon Slayer)       3\n2773  0.006012       (3_Ozark, 4_Sex Education, 2_Rick And Morty)       3\n2015  0.006012  (3_Outer Banks, 2_Two and a half men, 1_Darede...       3\n1919  0.006012         (4_Atypical, 1_Cobra Kai, 2_The Blacklist)       3\n...        ...                                                ...     ...\n2255  0.002004     (2_12 Monkeys, 3_Stranger Things, 1_Mr. Robot)       3\n2254  0.002004       (2_Banshee, 1_Mirzapur, 3_The Wheel of Time)       3\n2253  0.002004       (3_Startup, 2_Big Little Lies, 1_Mindhunter)       3\n2252  0.002004   (4_The Alienist, 3_Absentia, 1_Mare of Easttown)       3\n3152  0.002004  (3_Succession, 2_The Blacklist, 4_Sex Educatio...       5\n\n[1355 rows x 3 columns]",
      "text/html": "<div>\n<style scoped>\n    .dataframe tbody tr th:only-of-type {\n        vertical-align: middle;\n    }\n\n    .dataframe tbody tr th {\n        vertical-align: top;\n    }\n\n    .dataframe thead th {\n        text-align: right;\n    }\n</style>\n<table border=\"1\" class=\"dataframe\">\n  <thead>\n    <tr style=\"text-align: right;\">\n      <th></th>\n      <th>support</th>\n      <th>itemsets</th>\n      <th>length</th>\n    </tr>\n  </thead>\n  <tbody>\n    <tr>\n      <th>2718</th>\n      <td>0.006012</td>\n      <td>(2_Mr. Robot, 3_Succession, 4_Ozark)</td>\n      <td>3</td>\n    </tr>\n    <tr>\n      <th>1914</th>\n      <td>0.006012</td>\n      <td>(1_Cobra Kai, 2_The Blacklist, 3_Demon Slayer)</td>\n      <td>3</td>\n    </tr>\n    <tr>\n      <th>2773</th>\n      <td>0.006012</td>\n      <td>(3_Ozark, 4_Sex Education, 2_Rick And Morty)</td>\n      <td>3</td>\n    </tr>\n    <tr>\n      <th>2015</th>\n      <td>0.006012</td>\n      <td>(3_Outer Banks, 2_Two and a half men, 1_Darede...</td>\n      <td>3</td>\n    </tr>\n    <tr>\n      <th>1919</th>\n      <td>0.006012</td>\n      <td>(4_Atypical, 1_Cobra Kai, 2_The Blacklist)</td>\n      <td>3</td>\n    </tr>\n    <tr>\n      <th>...</th>\n      <td>...</td>\n      <td>...</td>\n      <td>...</td>\n    </tr>\n    <tr>\n      <th>2255</th>\n      <td>0.002004</td>\n      <td>(2_12 Monkeys, 3_Stranger Things, 1_Mr. Robot)</td>\n      <td>3</td>\n    </tr>\n    <tr>\n      <th>2254</th>\n      <td>0.002004</td>\n      <td>(2_Banshee, 1_Mirzapur, 3_The Wheel of Time)</td>\n      <td>3</td>\n    </tr>\n    <tr>\n      <th>2253</th>\n      <td>0.002004</td>\n      <td>(3_Startup, 2_Big Little Lies, 1_Mindhunter)</td>\n      <td>3</td>\n    </tr>\n    <tr>\n      <th>2252</th>\n      <td>0.002004</td>\n      <td>(4_The Alienist, 3_Absentia, 1_Mare of Easttown)</td>\n      <td>3</td>\n    </tr>\n    <tr>\n      <th>3152</th>\n      <td>0.002004</td>\n      <td>(3_Succession, 2_The Blacklist, 4_Sex Educatio...</td>\n      <td>5</td>\n    </tr>\n  </tbody>\n</table>\n<p>1355 rows × 3 columns</p>\n</div>"
     },
     "execution_count": 63,
     "metadata": {},
     "output_type": "execute_result"
    }
   ],
   "source": [
    "common_showsets = apriori(show_sets, min_support=0.002, use_colnames=True)\n",
    "\n",
    "#Create a Length column to include combinations of all the item sets.\n",
    "#So use code 'lambda x:len' go to end of the dataset.\n",
    "common_showsets['length'] = common_showsets['itemsets'].apply(lambda x:len(x))\n",
    "\n",
    "# Has to be greater than two to be a set, so using >= 3\n",
    "common_showsets[common_showsets['length'] >=3].sort_values('support', ascending=False)"
   ],
   "metadata": {
    "collapsed": false
   }
  },
  {
   "cell_type": "markdown",
   "source": [],
   "metadata": {
    "collapsed": false
   }
  },
  {
   "cell_type": "markdown",
   "source": [
    "# 3. Identify the ‘shows’ most likely to be viewed by the same user ID (based on ‘confidence’)."
   ],
   "metadata": {
    "collapsed": false
   }
  },
  {
   "cell_type": "code",
   "execution_count": 68,
   "outputs": [
    {
     "data": {
      "text/plain": "               antecedents                consequents  antecedent support  \\\n0           (1_12 Monkeys)                (2_Banshee)            0.004008   \n1           (1_12 Monkeys)                   (2_Dark)            0.004008   \n2           (1_12 Monkeys)  (3_How I met your mother)            0.004008   \n3   (2_Brooklyn Nine Nine)               (1_Absentia)            0.004008   \n4              (2_Lucifer)               (1_Absentia)            0.010020   \n5  (1_Alice in Borderland)       (2_The Walking Dead)            0.002004   \n6  (1_Alice in Borderland)  (3_How I met your mother)            0.002004   \n7       (1_Altered Carbon)                     (2_24)            0.002004   \n8                   (2_24)         (1_Altered Carbon)            0.004008   \n9       (1_Altered Carbon)        (3_Stranger Things)            0.002004   \n\n   consequent support   support  confidence        lift  leverage  conviction  \n0            0.008016  0.002004         0.5   62.375000  0.001972    1.983968  \n1            0.012024  0.002004         0.5   41.583333  0.001956    1.975952  \n2            0.012024  0.002004         0.5   41.583333  0.001956    1.975952  \n3            0.028056  0.002004         0.5   17.821429  0.001892    1.943888  \n4            0.028056  0.006012         0.6   21.385714  0.005731    2.429860  \n5            0.010020  0.002004         1.0   99.800000  0.001984         inf  \n6            0.012024  0.002004         1.0   83.166667  0.001980         inf  \n7            0.004008  0.002004         1.0  249.500000  0.001996         inf  \n8            0.002004  0.002004         0.5  249.500000  0.001996    1.995992  \n9            0.010020  0.002004         1.0   99.800000  0.001984         inf  ",
      "text/html": "<div>\n<style scoped>\n    .dataframe tbody tr th:only-of-type {\n        vertical-align: middle;\n    }\n\n    .dataframe tbody tr th {\n        vertical-align: top;\n    }\n\n    .dataframe thead th {\n        text-align: right;\n    }\n</style>\n<table border=\"1\" class=\"dataframe\">\n  <thead>\n    <tr style=\"text-align: right;\">\n      <th></th>\n      <th>antecedents</th>\n      <th>consequents</th>\n      <th>antecedent support</th>\n      <th>consequent support</th>\n      <th>support</th>\n      <th>confidence</th>\n      <th>lift</th>\n      <th>leverage</th>\n      <th>conviction</th>\n    </tr>\n  </thead>\n  <tbody>\n    <tr>\n      <th>0</th>\n      <td>(1_12 Monkeys)</td>\n      <td>(2_Banshee)</td>\n      <td>0.004008</td>\n      <td>0.008016</td>\n      <td>0.002004</td>\n      <td>0.5</td>\n      <td>62.375000</td>\n      <td>0.001972</td>\n      <td>1.983968</td>\n    </tr>\n    <tr>\n      <th>1</th>\n      <td>(1_12 Monkeys)</td>\n      <td>(2_Dark)</td>\n      <td>0.004008</td>\n      <td>0.012024</td>\n      <td>0.002004</td>\n      <td>0.5</td>\n      <td>41.583333</td>\n      <td>0.001956</td>\n      <td>1.975952</td>\n    </tr>\n    <tr>\n      <th>2</th>\n      <td>(1_12 Monkeys)</td>\n      <td>(3_How I met your mother)</td>\n      <td>0.004008</td>\n      <td>0.012024</td>\n      <td>0.002004</td>\n      <td>0.5</td>\n      <td>41.583333</td>\n      <td>0.001956</td>\n      <td>1.975952</td>\n    </tr>\n    <tr>\n      <th>3</th>\n      <td>(2_Brooklyn Nine Nine)</td>\n      <td>(1_Absentia)</td>\n      <td>0.004008</td>\n      <td>0.028056</td>\n      <td>0.002004</td>\n      <td>0.5</td>\n      <td>17.821429</td>\n      <td>0.001892</td>\n      <td>1.943888</td>\n    </tr>\n    <tr>\n      <th>4</th>\n      <td>(2_Lucifer)</td>\n      <td>(1_Absentia)</td>\n      <td>0.010020</td>\n      <td>0.028056</td>\n      <td>0.006012</td>\n      <td>0.6</td>\n      <td>21.385714</td>\n      <td>0.005731</td>\n      <td>2.429860</td>\n    </tr>\n    <tr>\n      <th>5</th>\n      <td>(1_Alice in Borderland)</td>\n      <td>(2_The Walking Dead)</td>\n      <td>0.002004</td>\n      <td>0.010020</td>\n      <td>0.002004</td>\n      <td>1.0</td>\n      <td>99.800000</td>\n      <td>0.001984</td>\n      <td>inf</td>\n    </tr>\n    <tr>\n      <th>6</th>\n      <td>(1_Alice in Borderland)</td>\n      <td>(3_How I met your mother)</td>\n      <td>0.002004</td>\n      <td>0.012024</td>\n      <td>0.002004</td>\n      <td>1.0</td>\n      <td>83.166667</td>\n      <td>0.001980</td>\n      <td>inf</td>\n    </tr>\n    <tr>\n      <th>7</th>\n      <td>(1_Altered Carbon)</td>\n      <td>(2_24)</td>\n      <td>0.002004</td>\n      <td>0.004008</td>\n      <td>0.002004</td>\n      <td>1.0</td>\n      <td>249.500000</td>\n      <td>0.001996</td>\n      <td>inf</td>\n    </tr>\n    <tr>\n      <th>8</th>\n      <td>(2_24)</td>\n      <td>(1_Altered Carbon)</td>\n      <td>0.004008</td>\n      <td>0.002004</td>\n      <td>0.002004</td>\n      <td>0.5</td>\n      <td>249.500000</td>\n      <td>0.001996</td>\n      <td>1.995992</td>\n    </tr>\n    <tr>\n      <th>9</th>\n      <td>(1_Altered Carbon)</td>\n      <td>(3_Stranger Things)</td>\n      <td>0.002004</td>\n      <td>0.010020</td>\n      <td>0.002004</td>\n      <td>1.0</td>\n      <td>99.800000</td>\n      <td>0.001984</td>\n      <td>inf</td>\n    </tr>\n  </tbody>\n</table>\n</div>"
     },
     "execution_count": 68,
     "metadata": {},
     "output_type": "execute_result"
    }
   ],
   "source": [
    "assoc_rules = association_rules(common_showsets, metric='confidence', min_threshold=0.5).drop_duplicates()\n",
    "assoc_rules.head(10)"
   ],
   "metadata": {
    "collapsed": false
   }
  },
  {
   "cell_type": "markdown",
   "source": [
    "# 4. List the top 3 combinations of ‘shows’ viewed together in the same transaction as opposed to separate transactions (based on ‘lift’)."
   ],
   "metadata": {
    "collapsed": false
   }
  },
  {
   "cell_type": "code",
   "execution_count": 70,
   "outputs": [
    {
     "data": {
      "text/plain": "               antecedents                consequents  antecedent support  \\\n5  (1_Alice in Borderland)       (2_The Walking Dead)            0.002004   \n6  (1_Alice in Borderland)  (3_How I met your mother)            0.002004   \n7       (1_Altered Carbon)                     (2_24)            0.002004   \n\n   consequent support   support  confidence        lift  leverage  conviction  \n5            0.010020  0.002004         1.0   99.800000  0.001984         inf  \n6            0.012024  0.002004         1.0   83.166667  0.001980         inf  \n7            0.004008  0.002004         1.0  249.500000  0.001996         inf  ",
      "text/html": "<div>\n<style scoped>\n    .dataframe tbody tr th:only-of-type {\n        vertical-align: middle;\n    }\n\n    .dataframe tbody tr th {\n        vertical-align: top;\n    }\n\n    .dataframe thead th {\n        text-align: right;\n    }\n</style>\n<table border=\"1\" class=\"dataframe\">\n  <thead>\n    <tr style=\"text-align: right;\">\n      <th></th>\n      <th>antecedents</th>\n      <th>consequents</th>\n      <th>antecedent support</th>\n      <th>consequent support</th>\n      <th>support</th>\n      <th>confidence</th>\n      <th>lift</th>\n      <th>leverage</th>\n      <th>conviction</th>\n    </tr>\n  </thead>\n  <tbody>\n    <tr>\n      <th>5</th>\n      <td>(1_Alice in Borderland)</td>\n      <td>(2_The Walking Dead)</td>\n      <td>0.002004</td>\n      <td>0.010020</td>\n      <td>0.002004</td>\n      <td>1.0</td>\n      <td>99.800000</td>\n      <td>0.001984</td>\n      <td>inf</td>\n    </tr>\n    <tr>\n      <th>6</th>\n      <td>(1_Alice in Borderland)</td>\n      <td>(3_How I met your mother)</td>\n      <td>0.002004</td>\n      <td>0.012024</td>\n      <td>0.002004</td>\n      <td>1.0</td>\n      <td>83.166667</td>\n      <td>0.001980</td>\n      <td>inf</td>\n    </tr>\n    <tr>\n      <th>7</th>\n      <td>(1_Altered Carbon)</td>\n      <td>(2_24)</td>\n      <td>0.002004</td>\n      <td>0.004008</td>\n      <td>0.002004</td>\n      <td>1.0</td>\n      <td>249.500000</td>\n      <td>0.001996</td>\n      <td>inf</td>\n    </tr>\n  </tbody>\n</table>\n</div>"
     },
     "execution_count": 70,
     "metadata": {},
     "output_type": "execute_result"
    }
   ],
   "source": [
    "# The business would benefit by recommending consequents in this list to those who have watched the antecedents\n",
    "# E.g., a user finishes watching 'Alice in Borderland' should also be recommended 'The Walking Dead'\n",
    "rules = association_rules(common_showsets, metric='confidence', min_threshold=0.5)\n",
    "rules.nlargest(3, 'confidence').head()"
   ],
   "metadata": {
    "collapsed": false
   }
  },
  {
   "cell_type": "markdown",
   "source": [
    "# 5. Display the top 5 combined ‘shows’ in one transaction (based on 'lift')."
   ],
   "metadata": {
    "collapsed": false
   }
  },
  {
   "cell_type": "code",
   "execution_count": 72,
   "outputs": [
    {
     "data": {
      "text/plain": "                         antecedents                      consequents  \\\n33                      (1_Billions)  (4_How to get away with murder)   \n34   (4_How to get away with murder)                     (1_Billions)   \n93                        (1_Fringe)                      (2_Shooter)   \n94                       (2_Shooter)                       (1_Fringe)   \n140                      (3_Startup)                   (1_Mindhunter)   \n\n     antecedent support  consequent support   support  confidence   lift  \\\n33             0.002004            0.002004  0.002004         1.0  499.0   \n34             0.002004            0.002004  0.002004         1.0  499.0   \n93             0.002004            0.002004  0.002004         1.0  499.0   \n94             0.002004            0.002004  0.002004         1.0  499.0   \n140            0.002004            0.002004  0.002004         1.0  499.0   \n\n     leverage  conviction  \n33      0.002         inf  \n34      0.002         inf  \n93      0.002         inf  \n94      0.002         inf  \n140     0.002         inf  ",
      "text/html": "<div>\n<style scoped>\n    .dataframe tbody tr th:only-of-type {\n        vertical-align: middle;\n    }\n\n    .dataframe tbody tr th {\n        vertical-align: top;\n    }\n\n    .dataframe thead th {\n        text-align: right;\n    }\n</style>\n<table border=\"1\" class=\"dataframe\">\n  <thead>\n    <tr style=\"text-align: right;\">\n      <th></th>\n      <th>antecedents</th>\n      <th>consequents</th>\n      <th>antecedent support</th>\n      <th>consequent support</th>\n      <th>support</th>\n      <th>confidence</th>\n      <th>lift</th>\n      <th>leverage</th>\n      <th>conviction</th>\n    </tr>\n  </thead>\n  <tbody>\n    <tr>\n      <th>33</th>\n      <td>(1_Billions)</td>\n      <td>(4_How to get away with murder)</td>\n      <td>0.002004</td>\n      <td>0.002004</td>\n      <td>0.002004</td>\n      <td>1.0</td>\n      <td>499.0</td>\n      <td>0.002</td>\n      <td>inf</td>\n    </tr>\n    <tr>\n      <th>34</th>\n      <td>(4_How to get away with murder)</td>\n      <td>(1_Billions)</td>\n      <td>0.002004</td>\n      <td>0.002004</td>\n      <td>0.002004</td>\n      <td>1.0</td>\n      <td>499.0</td>\n      <td>0.002</td>\n      <td>inf</td>\n    </tr>\n    <tr>\n      <th>93</th>\n      <td>(1_Fringe)</td>\n      <td>(2_Shooter)</td>\n      <td>0.002004</td>\n      <td>0.002004</td>\n      <td>0.002004</td>\n      <td>1.0</td>\n      <td>499.0</td>\n      <td>0.002</td>\n      <td>inf</td>\n    </tr>\n    <tr>\n      <th>94</th>\n      <td>(2_Shooter)</td>\n      <td>(1_Fringe)</td>\n      <td>0.002004</td>\n      <td>0.002004</td>\n      <td>0.002004</td>\n      <td>1.0</td>\n      <td>499.0</td>\n      <td>0.002</td>\n      <td>inf</td>\n    </tr>\n    <tr>\n      <th>140</th>\n      <td>(3_Startup)</td>\n      <td>(1_Mindhunter)</td>\n      <td>0.002004</td>\n      <td>0.002004</td>\n      <td>0.002004</td>\n      <td>1.0</td>\n      <td>499.0</td>\n      <td>0.002</td>\n      <td>inf</td>\n    </tr>\n  </tbody>\n</table>\n</div>"
     },
     "execution_count": 72,
     "metadata": {},
     "output_type": "execute_result"
    }
   ],
   "source": [
    "# Identify the top 5 combined products in 1 transaction - based on highest 'lift' value\n",
    "# This is useful information for determining which promotions to run, for example.\n",
    "# E.g., users who purchase 'Billions' to watch will get a 50% discount on 'How to Get Away With Murder', likely users would avail of this offer\n",
    "rules[(rules['lift'] > 1.0) & (rules['confidence'] > 0.5)].nlargest(5, 'lift')"
   ],
   "metadata": {
    "collapsed": false
   }
  },
  {
   "cell_type": "markdown",
   "source": [
    "# 6. Include any extra code (or plot any graph) that you think would help StreamMedia management interpret their behaviour data."
   ],
   "metadata": {
    "collapsed": false
   }
  }
 ],
 "metadata": {
  "kernelspec": {
   "display_name": "Python 3",
   "language": "python",
   "name": "python3"
  },
  "language_info": {
   "codemirror_mode": {
    "name": "ipython",
    "version": 2
   },
   "file_extension": ".py",
   "mimetype": "text/x-python",
   "name": "python",
   "nbconvert_exporter": "python",
   "pygments_lexer": "ipython2",
   "version": "2.7.6"
  }
 },
 "nbformat": 4,
 "nbformat_minor": 0
}

{
 "cells": [
  {
   "cell_type": "code",
   "execution_count": 327,
   "metadata": {
    "collapsed": true
   },
   "outputs": [],
   "source": [
    "import pandas as pd\n",
    "import numpy as np\n",
    "import matplotlib.pyplot as plt\n",
    "import seaborn as sn\n",
    "\n",
    "from sklearn.model_selection import train_test_split\n",
    "from sklearn.tree import DecisionTreeClassifier\n",
    "from sklearn.metrics import classification_report\n",
    "import sklearn.metrics\n",
    "\n",
    "pd.set_option('display.float_format', lambda x: '%.5f' % x)"
   ]
  },
  {
   "cell_type": "code",
   "execution_count": 328,
   "outputs": [
    {
     "data": {
      "text/plain": "                                UserID  session_time_seconds  \\\n0  a720-6b732349-a720-4862-bd21-644732                   100   \n1  a0c0-6b73247c-a0c0-4bd9-8baa-797356                     5   \n\n   top_banner_image_click  last_minute_deals_click  best_sellers_click  \\\n0                       0                        0                   0   \n1                       0                        0                   0   \n\n   christmas_menu_click  new_releases_click  product_image_click  \\\n0                     0                   0                    0   \n1                     0                   0                    0   \n\n   frequently_bought _together_click  more_items_click  reviews_click  \\\n0                                  0                 0              1   \n1                                  0                 0              0   \n\n   subscribe_save_click  one_time_checkout  add_to_basket  returning_user  \\\n0                     0                  0        0.00000               0   \n1                     0                  0        0.00000               0   \n\n   purchased  repeat_purchaser  \n0          0                 0  \n1          0                 0  ",
      "text/html": "<div>\n<style scoped>\n    .dataframe tbody tr th:only-of-type {\n        vertical-align: middle;\n    }\n\n    .dataframe tbody tr th {\n        vertical-align: top;\n    }\n\n    .dataframe thead th {\n        text-align: right;\n    }\n</style>\n<table border=\"1\" class=\"dataframe\">\n  <thead>\n    <tr style=\"text-align: right;\">\n      <th></th>\n      <th>UserID</th>\n      <th>session_time_seconds</th>\n      <th>top_banner_image_click</th>\n      <th>last_minute_deals_click</th>\n      <th>best_sellers_click</th>\n      <th>christmas_menu_click</th>\n      <th>new_releases_click</th>\n      <th>product_image_click</th>\n      <th>frequently_bought _together_click</th>\n      <th>more_items_click</th>\n      <th>reviews_click</th>\n      <th>subscribe_save_click</th>\n      <th>one_time_checkout</th>\n      <th>add_to_basket</th>\n      <th>returning_user</th>\n      <th>purchased</th>\n      <th>repeat_purchaser</th>\n    </tr>\n  </thead>\n  <tbody>\n    <tr>\n      <th>0</th>\n      <td>a720-6b732349-a720-4862-bd21-644732</td>\n      <td>100</td>\n      <td>0</td>\n      <td>0</td>\n      <td>0</td>\n      <td>0</td>\n      <td>0</td>\n      <td>0</td>\n      <td>0</td>\n      <td>0</td>\n      <td>1</td>\n      <td>0</td>\n      <td>0</td>\n      <td>0.00000</td>\n      <td>0</td>\n      <td>0</td>\n      <td>0</td>\n    </tr>\n    <tr>\n      <th>1</th>\n      <td>a0c0-6b73247c-a0c0-4bd9-8baa-797356</td>\n      <td>5</td>\n      <td>0</td>\n      <td>0</td>\n      <td>0</td>\n      <td>0</td>\n      <td>0</td>\n      <td>0</td>\n      <td>0</td>\n      <td>0</td>\n      <td>0</td>\n      <td>0</td>\n      <td>0</td>\n      <td>0.00000</td>\n      <td>0</td>\n      <td>0</td>\n      <td>0</td>\n    </tr>\n  </tbody>\n</table>\n</div>"
     },
     "execution_count": 328,
     "metadata": {},
     "output_type": "execute_result"
    }
   ],
   "source": [
    "df = pd.read_csv('online_behaviour.csv')\n",
    "df = df.dropna()\n",
    "df.head(2)"
   ],
   "metadata": {
    "collapsed": false
   }
  },
  {
   "cell_type": "markdown",
   "source": [
    "# 1. Which of the website interactions are highly correlated with a user’s likelihood (propensity) to purchase?"
   ],
   "metadata": {
    "collapsed": false
   }
  },
  {
   "cell_type": "code",
   "execution_count": 329,
   "outputs": [
    {
     "data": {
      "text/plain": "purchased              1.00000\nnew_releases_click     0.41310\nsubscribe_save_click   0.17267\nadd_to_basket          0.15280\nrepeat_purchaser       0.12430\nName: purchased, dtype: float64"
     },
     "execution_count": 329,
     "metadata": {},
     "output_type": "execute_result"
    }
   ],
   "source": [
    "# Cleaning data, UserID is irrelevant and not numerical\n",
    "df = df.drop('UserID', axis=1)\n",
    "\n",
    "## attempt 1:\n",
    "# for row in correlation:\n",
    "#     if row > 0.1:\n",
    "#         high_correlation.append((\"{:10.2f}\".format(row * 100)))\n",
    "\n",
    "\n",
    "correlation = df.corr()['purchased']\n",
    "\n",
    "\n",
    "# Top five are above 10%\n",
    "correlation.nlargest(5)"
   ],
   "metadata": {
    "collapsed": false
   }
  },
  {
   "cell_type": "markdown",
   "source": [
    "# 2. Which of the website interactions are highly correlated with a user’s likelihood (propensity) to repeat purchase?"
   ],
   "metadata": {
    "collapsed": false
   }
  },
  {
   "cell_type": "code",
   "execution_count": 330,
   "outputs": [
    {
     "data": {
      "text/plain": "repeat_purchaser          1.00000\nbest_sellers_click        0.35807\nlast_minute_deals_click   0.21061\npurchased                 0.12430\nsession_time_seconds      0.10995\none_time_checkout         0.09358\nadd_to_basket             0.07443\nName: repeat_purchaser, dtype: float64"
     },
     "execution_count": 330,
     "metadata": {},
     "output_type": "execute_result"
    }
   ],
   "source": [
    "correlation = df.corr()['repeat_purchaser']\n",
    "\n",
    "# Top five are above 10%\n",
    "correlation.nlargest(7)"
   ],
   "metadata": {
    "collapsed": false
   }
  },
  {
   "cell_type": "markdown",
   "source": [
    "# 3. Predict how likely new customers are to buy based on a new test model (also test the accuracy of the model)."
   ],
   "metadata": {
    "collapsed": false
   }
  },
  {
   "cell_type": "code",
   "execution_count": 331,
   "outputs": [
    {
     "data": {
      "text/plain": "purchased                           1.00000\nnew_releases_click                  0.49880\nadd_to_basket                       0.23347\nfrequently_bought _together_click   0.18750\nproduct_image_click                 0.08129\nsubscribe_save_click                0.06828\nchristmas_menu_click                0.06100\nName: purchased, dtype: float64"
     },
     "execution_count": 331,
     "metadata": {},
     "output_type": "execute_result"
    }
   ],
   "source": [
    "# Only using *new* users\n",
    "df2 = df[df.returning_user != 1]\n",
    "df2 = df2[df2.repeat_purchaser != 1]\n",
    "\n",
    "correlation = df2.corr()['purchased']\n",
    "correlation.nlargest(7)"
   ],
   "metadata": {
    "collapsed": false
   }
  },
  {
   "cell_type": "code",
   "execution_count": 332,
   "outputs": [
    {
     "data": {
      "text/plain": "   new_releases_click  add_to_basket  frequently_bought _together_click  \\\n0                   0        0.00000                                  0   \n1                   0        0.00000                                  0   \n2                   0        0.00000                                  0   \n\n   product_image_click  \n0                    0  \n1                    0  \n2                    0  ",
      "text/html": "<div>\n<style scoped>\n    .dataframe tbody tr th:only-of-type {\n        vertical-align: middle;\n    }\n\n    .dataframe tbody tr th {\n        vertical-align: top;\n    }\n\n    .dataframe thead th {\n        text-align: right;\n    }\n</style>\n<table border=\"1\" class=\"dataframe\">\n  <thead>\n    <tr style=\"text-align: right;\">\n      <th></th>\n      <th>new_releases_click</th>\n      <th>add_to_basket</th>\n      <th>frequently_bought _together_click</th>\n      <th>product_image_click</th>\n    </tr>\n  </thead>\n  <tbody>\n    <tr>\n      <th>0</th>\n      <td>0</td>\n      <td>0.00000</td>\n      <td>0</td>\n      <td>0</td>\n    </tr>\n    <tr>\n      <th>1</th>\n      <td>0</td>\n      <td>0.00000</td>\n      <td>0</td>\n      <td>0</td>\n    </tr>\n    <tr>\n      <th>2</th>\n      <td>0</td>\n      <td>0.00000</td>\n      <td>0</td>\n      <td>0</td>\n    </tr>\n  </tbody>\n</table>\n</div>"
     },
     "execution_count": 332,
     "metadata": {},
     "output_type": "execute_result"
    }
   ],
   "source": [
    "# I take any value over 10%\n",
    "# Pulling out our most highly correlated values\n",
    "# Only including things that can be clicked\n",
    "predictors = df[['new_releases_click','add_to_basket','frequently_bought _together_click', 'product_image_click']]\n",
    "# # What we want our model to target\n",
    "targets = df.purchased\n",
    "predictors.head(3)"
   ],
   "metadata": {
    "collapsed": false
   }
  },
  {
   "cell_type": "code",
   "execution_count": 333,
   "outputs": [
    {
     "name": "stdout",
     "output_type": "stream",
     "text": [
      "Predictor - Training:  (1244, 4) Predictor - Testing:  (534, 4)\n"
     ]
    }
   ],
   "source": [
    "pred_train, pred_test, tar_train, tar_test = train_test_split(predictors, targets, test_size=.3)\n",
    "print('Predictor - Training: ',pred_train.shape, 'Predictor - Testing: ', pred_test.shape)\n",
    "from sklearn.naive_bayes import GaussianNB\n",
    "\n",
    "classifier = GaussianNB()\n",
    "classifier = classifier.fit(pred_train, tar_train)\n",
    "predictions = classifier.predict(pred_test)\n",
    "\n",
    "# Generating a model to predict how likely someone is to buy based on our test data\n",
    "pred_prob = classifier.predict_proba(pred_test)"
   ],
   "metadata": {
    "collapsed": false
   }
  },
  {
   "cell_type": "code",
   "execution_count": 334,
   "outputs": [
    {
     "data": {
      "text/plain": "0.73"
     },
     "execution_count": 334,
     "metadata": {},
     "output_type": "execute_result"
    }
   ],
   "source": [
    "# Find out how accurate our model is\n",
    "sklearn.metrics.accuracy_score(tar_test, predictions).round(2)"
   ],
   "metadata": {
    "collapsed": false
   }
  },
  {
   "cell_type": "code",
   "execution_count": 335,
   "outputs": [
    {
     "data": {
      "text/plain": "0.5890333256652873"
     },
     "execution_count": 335,
     "metadata": {},
     "output_type": "execute_result"
    }
   ],
   "source": [
    "# 69% chance of buying\n",
    "pred_prob = classifier.predict_proba(pred_test)\n",
    "\n",
    "# 0 = chance the first user will buy, 1 = chance of not buying\n",
    "pred_prob[0,1].round(2)\n",
    "\n",
    "# :,0 gets first column only (all users' chance to buy)\n",
    "pred_prob[:,0].mean()\n",
    "\n",
    "# So mean of column 0 is how likely any new user is to buy something"
   ],
   "metadata": {
    "collapsed": false
   }
  },
  {
   "cell_type": "markdown",
   "source": [
    "# 4. Based on real-time use of your model, decide whether a prospect has a propensity to convert for each website column clicked"
   ],
   "metadata": {
    "collapsed": false
   }
  },
  {
   "cell_type": "code",
   "execution_count": 336,
   "outputs": [],
   "source": [
    "prospect = pred_prob[0,1]"
   ],
   "metadata": {
    "collapsed": false
   }
  },
  {
   "cell_type": "code",
   "execution_count": 337,
   "outputs": [
    {
     "name": "stdout",
     "output_type": "stream",
     "text": [
      "New visitor - propensity to buy:  [0.50737375]\n"
     ]
    }
   ],
   "source": [
    "# Not including a prediction for [0,0,0,0], since one of our columns is 'add_to_basket'\n",
    "# Wouldn't make sense for a user to have clicked nothing, yet still bought something\n",
    "\n",
    "new_releases_click = np.array([1,0,0,0]).reshape(1,-1)\n",
    "print('New visitor - propensity to buy: ', classifier.predict_proba(new_releases_click)[:,1])"
   ],
   "metadata": {
    "collapsed": false
   }
  },
  {
   "cell_type": "code",
   "execution_count": 338,
   "outputs": [
    {
     "name": "stdout",
     "output_type": "stream",
     "text": [
      "New visitor - propensity to buy:  [0.21986127]\n"
     ]
    }
   ],
   "source": [
    "add_to_basket_click = np.array([0,1,0,0]).reshape(1,-1)\n",
    "print('New visitor - propensity to buy: ', classifier.predict_proba(add_to_basket_click)[:,1])"
   ],
   "metadata": {
    "collapsed": false
   }
  },
  {
   "cell_type": "code",
   "execution_count": 339,
   "outputs": [
    {
     "name": "stdout",
     "output_type": "stream",
     "text": [
      "New visitor - propensity to buy:  [0.18215832]\n"
     ]
    }
   ],
   "source": [
    "frequently_bought_together_click = np.array([0,0,1,0]).reshape(1,-1)\n",
    "print('New visitor - propensity to buy: ', classifier.predict_proba(frequently_bought_together_click)[:,1])"
   ],
   "metadata": {
    "collapsed": false
   }
  },
  {
   "cell_type": "code",
   "execution_count": 340,
   "outputs": [
    {
     "name": "stdout",
     "output_type": "stream",
     "text": [
      "New visitor - propensity to buy:  [0.10215564]\n"
     ]
    }
   ],
   "source": [
    "product_image_click = np.array([0,0,0,1]).reshape(1,-1)\n",
    "print('New visitor - propensity to buy: ', classifier.predict_proba(product_image_click)[:,1])"
   ],
   "metadata": {
    "collapsed": false
   }
  },
  {
   "cell_type": "markdown",
   "source": [
    "# 5. Plot any graph (or add extra code) that would help MegaStore Ltd management interpret their click behaviour data."
   ],
   "metadata": {
    "collapsed": false
   }
  },
  {
   "cell_type": "code",
   "execution_count": 375,
   "outputs": [
    {
     "data": {
      "text/plain": "<Figure size 432x288 with 1 Axes>",
      "image/png": "[encoded data removed]"
     },
     "metadata": {},
     "output_type": "display_data"
    }
   ],
   "source": [
    "# Histogram more suitable than bar chart. This is continuous data (number of clicks).\n",
    "#\n",
    "arr = [new_releases_click, add_to_basket_click, frequently_bought_together_click, product_image_click]\n",
    "correlations = []\n",
    "\n",
    "for x in range(4):\n",
    "    correlations.append(classifier.predict_proba(arr[x])[:,1][0])\n",
    "\n",
    "labels = ['new releases', 'add to basket', 'frequently bought together', 'product image']\n",
    "sizes = [15, 30, 45, 10]\n",
    "\n",
    "correlations = np.array(correlations)\n",
    "\n",
    "fig1, ax1 = plt.subplots()\n",
    "# Separating to show off that this is the most significant\n",
    "explode_releases = [0.2, 0, 0, 0]\n",
    "# Autopct automatically labels our percentages\n",
    "\n",
    "\n",
    "plt.pie(correlations, labels=labels, explode=explode_releases, shadow=True, autopct='%1.1f%%')\n",
    "plt.show()"
   ],
   "metadata": {
    "collapsed": false
   }
  }
 ],
 "metadata": {
  "kernelspec": {
   "display_name": "Python 3",
   "language": "python",
   "name": "python3"
  },
  "language_info": {
   "codemirror_mode": {
    "name": "ipython",
    "version": 2
   },
   "file_extension": ".py",
   "mimetype": "text/x-python",
   "name": "python",
   "nbconvert_exporter": "python",
   "pygments_lexer": "ipython2",
   "version": "2.7.6"
  }
 },
 "nbformat": 4,
 "nbformat_minor": 0
}
